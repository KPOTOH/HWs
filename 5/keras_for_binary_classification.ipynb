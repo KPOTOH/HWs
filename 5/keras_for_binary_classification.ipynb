{
 "cells": [
  {
   "cell_type": "markdown",
   "metadata": {},
   "source": [
    "this competition https://www.kaggle.com/c/bird-or-aircraft"
   ]
  },
  {
   "cell_type": "code",
   "execution_count": 1,
   "metadata": {
    "_uuid": "5be6fcd11f5dbb0fdc420fb553c82b19ada78490",
    "colab": {},
    "colab_type": "code",
    "id": "pHU69eShp-Eu"
   },
   "outputs": [],
   "source": [
    "import warnings\n",
    "warnings.filterwarnings('ignore')\n",
    "import numpy as np\n",
    "np.seed = 1324\n",
    "import pandas as pd\n",
    "import matplotlib.pyplot as plt\n",
    "from matplotlib.colors import ListedColormap\n",
    "import seaborn as sns\n",
    "sns.set(style=\"white\")\n",
    "%matplotlib inline\n",
    "from sklearn.preprocessing import StandardScaler, OneHotEncoder\n",
    "from sklearn.model_selection import train_test_split\n",
    "from sklearn.metrics import accuracy_score\n",
    "from sklearn.model_selection import cross_val_score, GridSearchCV, RandomizedSearchCV, StratifiedKFold"
   ]
  },
  {
   "cell_type": "code",
   "execution_count": 2,
   "metadata": {
    "colab": {},
    "colab_type": "code",
    "id": "Gf5rS9z7p-E4"
   },
   "outputs": [
    {
     "name": "stderr",
     "output_type": "stream",
     "text": [
      "Using TensorFlow backend.\n"
     ]
    }
   ],
   "source": [
    "import cv2\n",
    "\n",
    "import sys\n",
    "import os\n",
    "\n",
    "import keras"
   ]
  },
  {
   "cell_type": "code",
   "execution_count": 3,
   "metadata": {
    "colab": {},
    "colab_type": "code",
    "id": "cBrH9u_Sp-FD"
   },
   "outputs": [],
   "source": [
    "from keras.models import Sequential\n",
    "from keras import layers\n",
    "from keras.layers import Conv2D\n",
    "from keras.layers import MaxPooling2D\n",
    "from keras.layers import Flatten\n",
    "from keras.layers import Dense\n",
    "from keras.layers import SpatialDropout2D\n",
    "from keras.layers import Dropout\n",
    "from keras.layers import Activation, BatchNormalization\n",
    "from keras.optimizers import SGD\n",
    "from keras import regularizers\n",
    "\n",
    "from keras.callbacks import TerminateOnNaN, ModelCheckpoint, LearningRateScheduler\n",
    "\n",
    "from keras.utils.np_utils import to_categorical\n",
    "\n",
    "import tensorflow as tf\n",
    "\n",
    "from PIL import Image, ImageEnhance \n",
    "\n",
    "from keras.utils import np_utils\n",
    "from keras.preprocessing.image import ImageDataGenerator\n",
    "# from keras.datasets import cifar10"
   ]
  },
  {
   "cell_type": "code",
   "execution_count": 4,
   "metadata": {},
   "outputs": [],
   "source": [
    "def submit_file(y_pred, filename):\n",
    "    submit = pd.Series(y_pred.reshape(y_pred.shape[0]), name='target').replace({0: 'Bird', 1: 'Airplane'})\n",
    "    submit.to_csv(filename +'.csv', index_label='id', header=True)\n",
    "    print('file created')"
   ]
  },
  {
   "cell_type": "code",
   "execution_count": 5,
   "metadata": {
    "_uuid": "6ce51dac84e9cbbc60e906d5cb86844bf5dd731a",
    "colab": {},
    "colab_type": "code",
    "id": "zDKT0eABp-FI"
   },
   "outputs": [],
   "source": [
    "#Функция для визуализации изображений\n",
    "def viz_img(image, y=None):\n",
    "    if y != None:\n",
    "        plt.title(['Bird', 'Airplane'][int(y)])\n",
    "    plt.imshow(image)\n",
    "    plt.show()"
   ]
  },
  {
   "cell_type": "code",
   "execution_count": 6,
   "metadata": {},
   "outputs": [],
   "source": [
    "def flip_image(array, show=False):\n",
    "    '''for horizontal flip the picture'''\n",
    "    image_obj = Image.fromarray(array.astype('uint8'))\n",
    "    rotated_image = image_obj.transpose(Image.FLIP_LEFT_RIGHT)\n",
    "    flipped_array = np.array(rotated_image, dtype=np.int)\n",
    "    if show:\n",
    "        plt.imshow(flipped_array)\n",
    "    return flipped_array\n",
    "\n",
    "def contrast_image(array, c_level=4.0, show=False):\n",
    "    '''for contrast modification of the picture'''\n",
    "    image_obj = Image.fromarray(array.astype('uint8'))\n",
    "    enhancer = ImageEnhance.Contrast(image_obj)\n",
    "    enhanced_im = enhancer.enhance(c_level)\n",
    "    \n",
    "    contrasted_array = np.array(enhanced_im, dtype=np.int)\n",
    "    if show:\n",
    "        plt.imshow(contrasted_array)\n",
    "    return contrasted_array"
   ]
  },
  {
   "cell_type": "code",
   "execution_count": 7,
   "metadata": {},
   "outputs": [],
   "source": [
    "train_x = pd.read_csv('../input/train_x.csv', index_col=0, header=None)\n",
    "train_y = pd.read_csv('../input/train_y.csv', index_col=0)\n",
    "test_x = pd.read_csv('../input/test_x.csv', index_col=0, header=None)"
   ]
  },
  {
   "cell_type": "code",
   "execution_count": 8,
   "metadata": {
    "_uuid": "23d08a6dfe9fd971fdc647a92e3f05dae1c3a441",
    "colab": {
     "base_uri": "https://localhost:8080/",
     "height": 34
    },
    "colab_type": "code",
    "id": "XaWjX_zCp-FT",
    "outputId": "124da40e-ba61-441a-9a0f-5bacf3b7cec3"
   },
   "outputs": [
    {
     "data": {
      "text/plain": [
       "((7200, 3072), (4800, 3072), (7200, 1))"
      ]
     },
     "execution_count": 8,
     "metadata": {},
     "output_type": "execute_result"
    }
   ],
   "source": [
    "#3 слоя размером 32х32 они \"вытянуты\" в вектор \n",
    "train_x.shape, test_x.shape, train_y.shape"
   ]
  },
  {
   "cell_type": "code",
   "execution_count": 9,
   "metadata": {},
   "outputs": [
    {
     "data": {
      "text/html": [
       "<div>\n",
       "<style scoped>\n",
       "    .dataframe tbody tr th:only-of-type {\n",
       "        vertical-align: middle;\n",
       "    }\n",
       "\n",
       "    .dataframe tbody tr th {\n",
       "        vertical-align: top;\n",
       "    }\n",
       "\n",
       "    .dataframe thead th {\n",
       "        text-align: right;\n",
       "    }\n",
       "</style>\n",
       "<table border=\"1\" class=\"dataframe\">\n",
       "  <thead>\n",
       "    <tr style=\"text-align: right;\">\n",
       "      <th></th>\n",
       "      <th>target</th>\n",
       "    </tr>\n",
       "  </thead>\n",
       "  <tbody>\n",
       "    <tr>\n",
       "      <th>0</th>\n",
       "      <td>Bird</td>\n",
       "    </tr>\n",
       "    <tr>\n",
       "      <th>1</th>\n",
       "      <td>Airplane</td>\n",
       "    </tr>\n",
       "    <tr>\n",
       "      <th>2</th>\n",
       "      <td>Airplane</td>\n",
       "    </tr>\n",
       "  </tbody>\n",
       "</table>\n",
       "</div>"
      ],
      "text/plain": [
       "     target\n",
       "0      Bird\n",
       "1  Airplane\n",
       "2  Airplane"
      ]
     },
     "execution_count": 9,
     "metadata": {},
     "output_type": "execute_result"
    }
   ],
   "source": [
    "train_y.head(3)"
   ]
  },
  {
   "cell_type": "code",
   "execution_count": 10,
   "metadata": {},
   "outputs": [],
   "source": [
    "train_y.replace(['Bird', 'Airplane'], [0,1], inplace=True)\n",
    "\n",
    "X = train_x.values.reshape(7200, 32, 32, 3)\n",
    "X_test = test_x.values.reshape(4800, 32, 32, 3)\n",
    "y_train = train_y.values\n",
    "\n",
    "# x_test_padded = []\n",
    "# for img in x_test:\n",
    "#     img = np.pad(img,((2,2),(2,2),(0,0)), 'constant')\n",
    "#     x_test_padded.append(img)\n",
    "# x_test_padded = np.stack(x_test_padded)\n",
    "\n",
    "# x_train_padded = []\n",
    "# for img in x_train:\n",
    "#     img = np.pad(img,((2,2),(2,2),(0,0)), 'constant')\n",
    "#     x_train_padded.append(img)\n",
    "# x_train_padded = np.stack(x_train_padded)"
   ]
  },
  {
   "cell_type": "code",
   "execution_count": 11,
   "metadata": {
    "_uuid": "b9dc548858f0ab4fb07c28b7c64b466801751c7e",
    "colab": {
     "base_uri": "https://localhost:8080/",
     "height": 280
    },
    "colab_type": "code",
    "id": "ZPSQMzlep-Fp",
    "outputId": "0ca251bb-85b0-4370-83ba-b7ecb683a4a2"
   },
   "outputs": [
    {
     "data": {
      "image/png": "[encoded data removed]",
      "text/plain": [
       "<Figure size 432x288 with 1 Axes>"
      ]
     },
     "metadata": {},
     "output_type": "display_data"
    }
   ],
   "source": [
    "viz_img(X[100], y_train[100])"
   ]
  },
  {
   "cell_type": "code",
   "execution_count": 12,
   "metadata": {
    "_uuid": "429e7edff621eabff5143d924bf7b5f1246a70bb",
    "colab": {
     "base_uri": "https://localhost:8080/",
     "height": 280
    },
    "colab_type": "code",
    "id": "4zFTCj8Lp-Fw",
    "outputId": "49c52796-0619-493f-f0c6-56c63b1e3337"
   },
   "outputs": [
    {
     "data": {
      "image/png": "[encoded data removed]",
      "text/plain": [
       "<Figure size 432x288 with 1 Axes>"
      ]
     },
     "metadata": {},
     "output_type": "display_data"
    }
   ],
   "source": [
    "viz_img(X[452], y_train[452])"
   ]
  },
  {
   "cell_type": "code",
   "execution_count": 13,
   "metadata": {},
   "outputs": [],
   "source": [
    "# Old Functions\n",
    "def create_flip_set(X):\n",
    "    my_flipped_imgs = []\n",
    "    for img in X:\n",
    "        nimg = flip_image(img)\n",
    "        my_flipped_imgs.append(nimg)\n",
    "    return np.stack(my_flipped_imgs)\n",
    "\n",
    "def create_contrast_set(X):\n",
    "    my_contrasted_imgs = []\n",
    "    for img in X:\n",
    "        nimg = contrast_image(img)\n",
    "        my_contrasted_imgs.append(nimg)\n",
    "    return np.stack(my_contrasted_imgs)"
   ]
  },
  {
   "cell_type": "code",
   "execution_count": 14,
   "metadata": {
    "colab": {},
    "colab_type": "code",
    "id": "sHe2MaEqp-G8"
   },
   "outputs": [],
   "source": [
    "# callbacks = [\n",
    "#     TerminateOnNaN(), ModelCheckpoint('bird_plane_lenet.hdf5', verbose=1, monitor='val_loss', save_best_only=True),\n",
    "# #    LearningRateScheduler(step_decay)\n",
    "# ]"
   ]
  },
  {
   "cell_type": "markdown",
   "metadata": {},
   "source": [
    "------"
   ]
  },
  {
   "cell_type": "code",
   "execution_count": 15,
   "metadata": {},
   "outputs": [],
   "source": [
    "def lr_schedule(epoch):\n",
    "    lrate = 0.001\n",
    "    if epoch > 75:\n",
    "        lrate = 0.0005\n",
    "    if epoch > 100:\n",
    "        lrate = 0.0003\n",
    "    return lrate\n",
    " "
   ]
  },
  {
   "cell_type": "code",
   "execution_count": 16,
   "metadata": {},
   "outputs": [],
   "source": [
    "X = X.astype('float32')\n",
    "X_test = X_test.astype('float32')\n",
    "x_train, x_test, y_train, y_test = train_test_split(X, y_train, test_size=0.3, random_state=12000)"
   ]
  },
  {
   "cell_type": "code",
   "execution_count": 17,
   "metadata": {},
   "outputs": [],
   "source": [
    " #z-score\n",
    "mean = np.mean(x_train, axis=(0,1,2,3))\n",
    "std = np.std(x_train,axis=(0,1,2,3))\n",
    "x_train = (x_train-mean) / (std + 1e-7)\n",
    "x_test = (x_test-mean) / (std + 1e-7)\n",
    "X_test = (X_test-mean) / (std + 1e-7)"
   ]
  },
  {
   "cell_type": "code",
   "execution_count": 18,
   "metadata": {},
   "outputs": [
    {
     "name": "stdout",
     "output_type": "stream",
     "text": [
      "WARNING:tensorflow:From /opt/conda/lib/python3.6/site-packages/tensorflow/python/framework/op_def_library.py:263: colocate_with (from tensorflow.python.framework.ops) is deprecated and will be removed in a future version.\n",
      "Instructions for updating:\n",
      "Colocations handled automatically by placer.\n",
      "WARNING:tensorflow:From /opt/conda/lib/python3.6/site-packages/keras/backend/tensorflow_backend.py:3445: calling dropout (from tensorflow.python.ops.nn_ops) with keep_prob is deprecated and will be removed in a future version.\n",
      "Instructions for updating:\n",
      "Please use `rate` instead of `keep_prob`. Rate should be set to `rate = 1 - keep_prob`.\n",
      "_________________________________________________________________\n",
      "Layer (type)                 Output Shape              Param #   \n",
      "=================================================================\n",
      "conv2d_1 (Conv2D)            (None, 32, 32, 32)        896       \n",
      "_________________________________________________________________\n",
      "activation_1 (Activation)    (None, 32, 32, 32)        0         \n",
      "_________________________________________________________________\n",
      "batch_normalization_1 (Batch (None, 32, 32, 32)        128       \n",
      "_________________________________________________________________\n",
      "conv2d_2 (Conv2D)            (None, 32, 32, 32)        9248      \n",
      "_________________________________________________________________\n",
      "activation_2 (Activation)    (None, 32, 32, 32)        0         \n",
      "_________________________________________________________________\n",
      "batch_normalization_2 (Batch (None, 32, 32, 32)        128       \n",
      "_________________________________________________________________\n",
      "max_pooling2d_1 (MaxPooling2 (None, 16, 16, 32)        0         \n",
      "_________________________________________________________________\n",
      "dropout_1 (Dropout)          (None, 16, 16, 32)        0         \n",
      "_________________________________________________________________\n",
      "conv2d_3 (Conv2D)            (None, 16, 16, 64)        18496     \n",
      "_________________________________________________________________\n",
      "activation_3 (Activation)    (None, 16, 16, 64)        0         \n",
      "_________________________________________________________________\n",
      "batch_normalization_3 (Batch (None, 16, 16, 64)        256       \n",
      "_________________________________________________________________\n",
      "conv2d_4 (Conv2D)            (None, 16, 16, 64)        36928     \n",
      "_________________________________________________________________\n",
      "activation_4 (Activation)    (None, 16, 16, 64)        0         \n",
      "_________________________________________________________________\n",
      "batch_normalization_4 (Batch (None, 16, 16, 64)        256       \n",
      "_________________________________________________________________\n",
      "max_pooling2d_2 (MaxPooling2 (None, 8, 8, 64)          0         \n",
      "_________________________________________________________________\n",
      "dropout_2 (Dropout)          (None, 8, 8, 64)          0         \n",
      "_________________________________________________________________\n",
      "conv2d_5 (Conv2D)            (None, 8, 8, 128)         73856     \n",
      "_________________________________________________________________\n",
      "activation_5 (Activation)    (None, 8, 8, 128)         0         \n",
      "_________________________________________________________________\n",
      "batch_normalization_5 (Batch (None, 8, 8, 128)         512       \n",
      "_________________________________________________________________\n",
      "conv2d_6 (Conv2D)            (None, 8, 8, 128)         147584    \n",
      "_________________________________________________________________\n",
      "activation_6 (Activation)    (None, 8, 8, 128)         0         \n",
      "_________________________________________________________________\n",
      "batch_normalization_6 (Batch (None, 8, 8, 128)         512       \n",
      "_________________________________________________________________\n",
      "max_pooling2d_3 (MaxPooling2 (None, 4, 4, 128)         0         \n",
      "_________________________________________________________________\n",
      "dropout_3 (Dropout)          (None, 4, 4, 128)         0         \n",
      "_________________________________________________________________\n",
      "flatten_1 (Flatten)          (None, 2048)              0         \n",
      "_________________________________________________________________\n",
      "dense_1 (Dense)              (None, 1)                 2049      \n",
      "=================================================================\n",
      "Total params: 290,849\n",
      "Trainable params: 289,953\n",
      "Non-trainable params: 896\n",
      "_________________________________________________________________\n"
     ]
    }
   ],
   "source": [
    "weight_decay = 1e-4\n",
    "model = Sequential()\n",
    "model.add(Conv2D(32, (3,3), padding='same', kernel_regularizer=regularizers.l2(weight_decay), \n",
    "                                            input_shape=x_train.shape[1:]))\n",
    "model.add(Activation('elu'))\n",
    "model.add(BatchNormalization())\n",
    "model.add(Conv2D(32, (3,3), padding='same', kernel_regularizer=regularizers.l2(weight_decay)))\n",
    "model.add(Activation('elu'))\n",
    "model.add(BatchNormalization())\n",
    "model.add(MaxPooling2D(pool_size=(2,2)))\n",
    "model.add(Dropout(0.2))\n",
    " \n",
    "model.add(Conv2D(64, (3,3), padding='same', kernel_regularizer=regularizers.l2(weight_decay)))\n",
    "model.add(Activation('elu'))\n",
    "model.add(BatchNormalization())\n",
    "model.add(Conv2D(64, (3,3), padding='same', kernel_regularizer=regularizers.l2(weight_decay)))\n",
    "model.add(Activation('elu'))\n",
    "model.add(BatchNormalization())\n",
    "model.add(MaxPooling2D(pool_size=(2,2)))\n",
    "model.add(Dropout(0.3))\n",
    " \n",
    "model.add(Conv2D(128, (3,3), padding='same', kernel_regularizer=regularizers.l2(weight_decay)))\n",
    "model.add(Activation('elu'))\n",
    "model.add(BatchNormalization())\n",
    "model.add(Conv2D(128, (3,3), padding='same', kernel_regularizer=regularizers.l2(weight_decay)))\n",
    "model.add(Activation('elu'))\n",
    "model.add(BatchNormalization())\n",
    "model.add(MaxPooling2D(pool_size=(2,2)))\n",
    "model.add(Dropout(0.4))\n",
    " \n",
    "model.add(Flatten())\n",
    "model.add(Dense(1, activation='sigmoid'))\n",
    " \n",
    "model.summary()"
   ]
  },
  {
   "cell_type": "code",
   "execution_count": 19,
   "metadata": {
    "_kg_hide-output": false
   },
   "outputs": [],
   "source": [
    "#data augmentation\n",
    "datagen = ImageDataGenerator(\n",
    "    rotation_range=15,\n",
    "    width_shift_range=0.1,\n",
    "    height_shift_range=0.1,\n",
    "    horizontal_flip=True,\n",
    "    )\n",
    "datagen.fit(x_train)"
   ]
  },
  {
   "cell_type": "code",
   "execution_count": 20,
   "metadata": {
    "_kg_hide-output": true,
    "collapsed": true
   },
   "outputs": [
    {
     "name": "stdout",
     "output_type": "stream",
     "text": [
      "WARNING:tensorflow:From /opt/conda/lib/python3.6/site-packages/tensorflow/python/ops/math_ops.py:3066: to_int32 (from tensorflow.python.ops.math_ops) is deprecated and will be removed in a future version.\n",
      "Instructions for updating:\n",
      "Use tf.cast instead.\n",
      "Epoch 1/125\n",
      "78/78 [==============================] - 5s 60ms/step - loss: 0.7155 - acc: 0.7526 - val_loss: 0.5675 - val_acc: 0.8361\n",
      "Epoch 2/125\n",
      "78/78 [==============================] - 2s 28ms/step - loss: 0.5281 - acc: 0.8009 - val_loss: 0.4830 - val_acc: 0.8556\n",
      "Epoch 3/125\n",
      "78/78 [==============================] - 2s 29ms/step - loss: 0.4781 - acc: 0.8213 - val_loss: 0.4207 - val_acc: 0.8583\n",
      "Epoch 4/125\n",
      "78/78 [==============================] - 2s 29ms/step - loss: 0.4483 - acc: 0.8395 - val_loss: 0.4720 - val_acc: 0.8389\n",
      "Epoch 5/125\n",
      "78/78 [==============================] - 2s 29ms/step - loss: 0.4168 - acc: 0.8507 - val_loss: 0.3733 - val_acc: 0.8727\n",
      "Epoch 6/125\n",
      "78/78 [==============================] - 2s 30ms/step - loss: 0.3994 - acc: 0.8506 - val_loss: 0.3690 - val_acc: 0.8778\n",
      "Epoch 7/125\n",
      "78/78 [==============================] - 2s 29ms/step - loss: 0.3680 - acc: 0.8665 - val_loss: 0.6619 - val_acc: 0.7972\n",
      "Epoch 8/125\n",
      "78/78 [==============================] - 2s 29ms/step - loss: 0.3512 - acc: 0.8760 - val_loss: 0.2865 - val_acc: 0.9060\n",
      "Epoch 9/125\n",
      "78/78 [==============================] - 2s 32ms/step - loss: 0.3485 - acc: 0.8781 - val_loss: 0.3875 - val_acc: 0.8690\n",
      "Epoch 10/125\n",
      "78/78 [==============================] - 3s 36ms/step - loss: 0.3287 - acc: 0.8844 - val_loss: 0.3116 - val_acc: 0.8963\n",
      "Epoch 11/125\n",
      "78/78 [==============================] - 3s 35ms/step - loss: 0.3193 - acc: 0.8918 - val_loss: 0.2821 - val_acc: 0.9134\n",
      "Epoch 12/125\n",
      "78/78 [==============================] - 3s 35ms/step - loss: 0.2990 - acc: 0.9003 - val_loss: 0.2900 - val_acc: 0.9065\n",
      "Epoch 13/125\n",
      "78/78 [==============================] - 3s 35ms/step - loss: 0.3065 - acc: 0.8931 - val_loss: 0.4882 - val_acc: 0.8514\n",
      "Epoch 14/125\n",
      "78/78 [==============================] - 3s 32ms/step - loss: 0.2894 - acc: 0.8996 - val_loss: 0.2733 - val_acc: 0.9153\n",
      "Epoch 15/125\n",
      "78/78 [==============================] - 2s 29ms/step - loss: 0.2894 - acc: 0.9011 - val_loss: 0.3599 - val_acc: 0.8782\n",
      "Epoch 16/125\n",
      "78/78 [==============================] - 2s 29ms/step - loss: 0.2723 - acc: 0.9087 - val_loss: 0.2942 - val_acc: 0.9120\n",
      "Epoch 17/125\n",
      "78/78 [==============================] - 2s 29ms/step - loss: 0.2846 - acc: 0.9051 - val_loss: 0.3492 - val_acc: 0.8926\n",
      "Epoch 18/125\n",
      "78/78 [==============================] - 2s 29ms/step - loss: 0.2723 - acc: 0.9149 - val_loss: 0.3031 - val_acc: 0.9190\n",
      "Epoch 19/125\n",
      "78/78 [==============================] - 2s 29ms/step - loss: 0.2575 - acc: 0.9214 - val_loss: 0.2620 - val_acc: 0.9194\n",
      "Epoch 20/125\n",
      "78/78 [==============================] - 2s 29ms/step - loss: 0.2697 - acc: 0.9129 - val_loss: 0.2497 - val_acc: 0.9222\n",
      "Epoch 21/125\n",
      "78/78 [==============================] - 2s 29ms/step - loss: 0.2681 - acc: 0.9155 - val_loss: 0.3144 - val_acc: 0.9065\n",
      "Epoch 22/125\n",
      "78/78 [==============================] - 2s 29ms/step - loss: 0.2511 - acc: 0.9230 - val_loss: 0.2658 - val_acc: 0.9250\n",
      "Epoch 23/125\n",
      "78/78 [==============================] - 2s 30ms/step - loss: 0.2576 - acc: 0.9161 - val_loss: 0.2541 - val_acc: 0.9185\n",
      "Epoch 24/125\n",
      "78/78 [==============================] - 2s 29ms/step - loss: 0.2519 - acc: 0.9167 - val_loss: 0.2417 - val_acc: 0.9273\n",
      "Epoch 25/125\n",
      "78/78 [==============================] - 2s 29ms/step - loss: 0.2397 - acc: 0.9290 - val_loss: 0.2327 - val_acc: 0.9356\n",
      "Epoch 26/125\n",
      "78/78 [==============================] - 2s 29ms/step - loss: 0.2423 - acc: 0.9276 - val_loss: 0.2364 - val_acc: 0.9306\n",
      "Epoch 27/125\n",
      "78/78 [==============================] - 2s 29ms/step - loss: 0.2389 - acc: 0.9280 - val_loss: 0.2907 - val_acc: 0.9111\n",
      "Epoch 28/125\n",
      "78/78 [==============================] - 2s 29ms/step - loss: 0.2238 - acc: 0.9354 - val_loss: 0.2389 - val_acc: 0.9315\n",
      "Epoch 29/125\n",
      "78/78 [==============================] - 2s 30ms/step - loss: 0.2411 - acc: 0.9258 - val_loss: 0.2999 - val_acc: 0.9088\n",
      "Epoch 30/125\n",
      "78/78 [==============================] - 2s 29ms/step - loss: 0.2204 - acc: 0.9344 - val_loss: 0.2367 - val_acc: 0.9264\n",
      "Epoch 31/125\n",
      "78/78 [==============================] - 2s 30ms/step - loss: 0.2098 - acc: 0.9372 - val_loss: 0.2756 - val_acc: 0.9218\n",
      "Epoch 32/125\n",
      "78/78 [==============================] - 2s 29ms/step - loss: 0.2308 - acc: 0.9340 - val_loss: 0.2584 - val_acc: 0.9167\n",
      "Epoch 33/125\n",
      "78/78 [==============================] - 2s 30ms/step - loss: 0.2286 - acc: 0.9307 - val_loss: 0.2734 - val_acc: 0.9185\n",
      "Epoch 34/125\n",
      "78/78 [==============================] - 2s 29ms/step - loss: 0.2136 - acc: 0.9336 - val_loss: 0.2487 - val_acc: 0.9250\n",
      "Epoch 35/125\n",
      "78/78 [==============================] - 2s 29ms/step - loss: 0.2229 - acc: 0.9361 - val_loss: 0.2471 - val_acc: 0.9259\n",
      "Epoch 36/125\n",
      "78/78 [==============================] - 2s 29ms/step - loss: 0.2126 - acc: 0.9376 - val_loss: 0.2334 - val_acc: 0.9315\n",
      "Epoch 37/125\n",
      "78/78 [==============================] - 2s 29ms/step - loss: 0.2164 - acc: 0.9394 - val_loss: 0.2540 - val_acc: 0.9255\n",
      "Epoch 38/125\n",
      "78/78 [==============================] - 2s 29ms/step - loss: 0.2142 - acc: 0.9408 - val_loss: 0.2257 - val_acc: 0.9347\n",
      "Epoch 39/125\n",
      "78/78 [==============================] - 2s 30ms/step - loss: 0.2048 - acc: 0.9444 - val_loss: 0.2400 - val_acc: 0.9204\n",
      "Epoch 40/125\n",
      "78/78 [==============================] - 2s 29ms/step - loss: 0.1981 - acc: 0.9505 - val_loss: 0.2371 - val_acc: 0.9394\n",
      "Epoch 41/125\n",
      "78/78 [==============================] - 2s 30ms/step - loss: 0.2016 - acc: 0.9484 - val_loss: 0.3189 - val_acc: 0.9093\n",
      "Epoch 42/125\n",
      "78/78 [==============================] - 2s 29ms/step - loss: 0.1998 - acc: 0.9440 - val_loss: 0.2326 - val_acc: 0.9306\n",
      "Epoch 43/125\n",
      "78/78 [==============================] - 2s 29ms/step - loss: 0.1995 - acc: 0.9441 - val_loss: 0.3003 - val_acc: 0.9213\n",
      "Epoch 44/125\n",
      "78/78 [==============================] - 2s 30ms/step - loss: 0.1919 - acc: 0.9479 - val_loss: 0.2315 - val_acc: 0.9398\n",
      "Epoch 45/125\n",
      "78/78 [==============================] - 3s 33ms/step - loss: 0.1892 - acc: 0.9515 - val_loss: 0.2563 - val_acc: 0.9236\n",
      "Epoch 46/125\n",
      "78/78 [==============================] - 3s 35ms/step - loss: 0.2083 - acc: 0.9411 - val_loss: 0.2385 - val_acc: 0.9343\n",
      "Epoch 47/125\n",
      "78/78 [==============================] - 3s 35ms/step - loss: 0.1824 - acc: 0.9537 - val_loss: 0.2386 - val_acc: 0.9352\n",
      "Epoch 48/125\n",
      "78/78 [==============================] - 3s 35ms/step - loss: 0.1881 - acc: 0.9507 - val_loss: 0.2217 - val_acc: 0.9370\n",
      "Epoch 49/125\n",
      "78/78 [==============================] - 2s 29ms/step - loss: 0.1829 - acc: 0.9505 - val_loss: 0.2198 - val_acc: 0.9366\n",
      "Epoch 50/125\n",
      "78/78 [==============================] - 2s 29ms/step - loss: 0.1822 - acc: 0.9513 - val_loss: 0.2334 - val_acc: 0.9384\n",
      "Epoch 51/125\n",
      "78/78 [==============================] - 2s 29ms/step - loss: 0.1910 - acc: 0.9536 - val_loss: 0.2420 - val_acc: 0.9370\n",
      "Epoch 52/125\n",
      "78/78 [==============================] - 2s 30ms/step - loss: 0.1883 - acc: 0.9535 - val_loss: 0.2750 - val_acc: 0.9259\n",
      "Epoch 53/125\n",
      "78/78 [==============================] - 2s 29ms/step - loss: 0.1822 - acc: 0.9532 - val_loss: 0.2515 - val_acc: 0.9398\n",
      "Epoch 54/125\n",
      "78/78 [==============================] - 2s 29ms/step - loss: 0.1848 - acc: 0.9549 - val_loss: 0.2302 - val_acc: 0.9389\n",
      "Epoch 55/125\n",
      "78/78 [==============================] - 2s 30ms/step - loss: 0.1833 - acc: 0.9535 - val_loss: 0.3154 - val_acc: 0.9157\n",
      "Epoch 56/125\n",
      "78/78 [==============================] - 2s 29ms/step - loss: 0.1688 - acc: 0.9609 - val_loss: 0.3261 - val_acc: 0.9185\n",
      "Epoch 57/125\n",
      "78/78 [==============================] - 2s 29ms/step - loss: 0.1820 - acc: 0.9548 - val_loss: 0.2504 - val_acc: 0.9444\n",
      "Epoch 58/125\n",
      "78/78 [==============================] - 2s 29ms/step - loss: 0.1908 - acc: 0.9519 - val_loss: 0.2355 - val_acc: 0.9431\n",
      "Epoch 59/125\n",
      "78/78 [==============================] - 2s 29ms/step - loss: 0.1682 - acc: 0.9589 - val_loss: 0.2634 - val_acc: 0.9282\n",
      "Epoch 60/125\n",
      "78/78 [==============================] - 2s 29ms/step - loss: 0.1830 - acc: 0.9538 - val_loss: 0.2407 - val_acc: 0.9333\n",
      "Epoch 61/125\n",
      "78/78 [==============================] - 2s 30ms/step - loss: 0.1767 - acc: 0.9545 - val_loss: 0.2369 - val_acc: 0.9356\n",
      "Epoch 62/125\n",
      "78/78 [==============================] - 2s 29ms/step - loss: 0.1752 - acc: 0.9587 - val_loss: 0.2835 - val_acc: 0.9292\n",
      "Epoch 63/125\n",
      "78/78 [==============================] - 2s 30ms/step - loss: 0.1670 - acc: 0.9605 - val_loss: 0.2910 - val_acc: 0.9269\n",
      "Epoch 64/125\n",
      "78/78 [==============================] - 2s 29ms/step - loss: 0.1761 - acc: 0.9571 - val_loss: 0.1995 - val_acc: 0.9477\n",
      "Epoch 65/125\n",
      "78/78 [==============================] - 2s 30ms/step - loss: 0.1692 - acc: 0.9610 - val_loss: 0.2167 - val_acc: 0.9505\n",
      "Epoch 66/125\n",
      "78/78 [==============================] - 2s 29ms/step - loss: 0.1757 - acc: 0.9613 - val_loss: 0.2406 - val_acc: 0.9403\n",
      "Epoch 67/125\n",
      "78/78 [==============================] - 2s 29ms/step - loss: 0.1569 - acc: 0.9673 - val_loss: 0.2054 - val_acc: 0.9523\n",
      "Epoch 68/125\n",
      "78/78 [==============================] - 2s 29ms/step - loss: 0.1652 - acc: 0.9631 - val_loss: 0.2667 - val_acc: 0.9324\n",
      "Epoch 69/125\n",
      "78/78 [==============================] - 2s 29ms/step - loss: 0.1683 - acc: 0.9618 - val_loss: 0.2181 - val_acc: 0.9495\n",
      "Epoch 70/125\n",
      "78/78 [==============================] - 2s 30ms/step - loss: 0.1604 - acc: 0.9602 - val_loss: 0.2393 - val_acc: 0.9472\n",
      "Epoch 71/125\n",
      "78/78 [==============================] - 2s 29ms/step - loss: 0.1694 - acc: 0.9613 - val_loss: 0.2260 - val_acc: 0.9481\n",
      "Epoch 72/125\n",
      "78/78 [==============================] - 2s 29ms/step - loss: 0.1624 - acc: 0.9605 - val_loss: 0.2523 - val_acc: 0.9477\n",
      "Epoch 73/125\n",
      "78/78 [==============================] - 2s 30ms/step - loss: 0.1626 - acc: 0.9627 - val_loss: 0.2177 - val_acc: 0.9435\n",
      "Epoch 74/125\n",
      "78/78 [==============================] - 2s 30ms/step - loss: 0.1626 - acc: 0.9621 - val_loss: 0.2396 - val_acc: 0.9491\n",
      "Epoch 75/125\n",
      "78/78 [==============================] - 2s 29ms/step - loss: 0.1611 - acc: 0.9655 - val_loss: 0.2373 - val_acc: 0.9407\n",
      "Epoch 76/125\n",
      "78/78 [==============================] - 2s 29ms/step - loss: 0.1628 - acc: 0.9649 - val_loss: 0.2341 - val_acc: 0.9389\n",
      "Epoch 77/125\n",
      "78/78 [==============================] - 2s 29ms/step - loss: 0.1310 - acc: 0.9739 - val_loss: 0.2467 - val_acc: 0.9449\n",
      "Epoch 78/125\n",
      "78/78 [==============================] - 2s 29ms/step - loss: 0.1303 - acc: 0.9739 - val_loss: 0.2184 - val_acc: 0.9491\n",
      "Epoch 79/125\n",
      "78/78 [==============================] - 2s 32ms/step - loss: 0.1341 - acc: 0.9738 - val_loss: 0.2151 - val_acc: 0.9463\n",
      "Epoch 80/125\n",
      "78/78 [==============================] - 3s 35ms/step - loss: 0.1260 - acc: 0.9758 - val_loss: 0.2196 - val_acc: 0.9514\n",
      "Epoch 81/125\n",
      "78/78 [==============================] - 3s 34ms/step - loss: 0.1414 - acc: 0.9724 - val_loss: 0.2222 - val_acc: 0.9458\n",
      "Epoch 82/125\n",
      "78/78 [==============================] - 3s 35ms/step - loss: 0.1259 - acc: 0.9759 - val_loss: 0.2283 - val_acc: 0.9486\n",
      "Epoch 83/125\n",
      "78/78 [==============================] - 2s 31ms/step - loss: 0.1278 - acc: 0.9762 - val_loss: 0.2398 - val_acc: 0.9472\n",
      "Epoch 84/125\n",
      "78/78 [==============================] - 2s 29ms/step - loss: 0.1276 - acc: 0.9774 - val_loss: 0.2748 - val_acc: 0.9398\n",
      "Epoch 85/125\n",
      "78/78 [==============================] - 2s 29ms/step - loss: 0.1175 - acc: 0.9794 - val_loss: 0.2254 - val_acc: 0.9435\n",
      "Epoch 86/125\n",
      "78/78 [==============================] - 2s 29ms/step - loss: 0.1229 - acc: 0.9780 - val_loss: 0.2220 - val_acc: 0.9509\n",
      "Epoch 87/125\n",
      "78/78 [==============================] - 2s 30ms/step - loss: 0.1235 - acc: 0.9781 - val_loss: 0.2273 - val_acc: 0.9528\n",
      "Epoch 88/125\n",
      "78/78 [==============================] - 2s 29ms/step - loss: 0.1245 - acc: 0.9796 - val_loss: 0.2299 - val_acc: 0.9528\n",
      "Epoch 89/125\n",
      "78/78 [==============================] - 2s 29ms/step - loss: 0.1275 - acc: 0.9759 - val_loss: 0.2240 - val_acc: 0.9514\n",
      "Epoch 90/125\n",
      "78/78 [==============================] - 2s 29ms/step - loss: 0.1261 - acc: 0.9757 - val_loss: 0.2192 - val_acc: 0.9454\n",
      "Epoch 91/125\n",
      "78/78 [==============================] - 2s 30ms/step - loss: 0.1152 - acc: 0.9802 - val_loss: 0.2323 - val_acc: 0.9523\n",
      "Epoch 92/125\n",
      "78/78 [==============================] - 2s 29ms/step - loss: 0.1204 - acc: 0.9778 - val_loss: 0.2432 - val_acc: 0.9500\n",
      "Epoch 93/125\n",
      "78/78 [==============================] - 2s 29ms/step - loss: 0.1243 - acc: 0.9762 - val_loss: 0.2099 - val_acc: 0.9472\n",
      "Epoch 94/125\n",
      "78/78 [==============================] - 2s 29ms/step - loss: 0.1202 - acc: 0.9804 - val_loss: 0.2202 - val_acc: 0.9491\n",
      "Epoch 95/125\n",
      "78/78 [==============================] - 2s 29ms/step - loss: 0.1139 - acc: 0.9794 - val_loss: 0.2186 - val_acc: 0.9495\n",
      "Epoch 96/125\n",
      "78/78 [==============================] - 2s 29ms/step - loss: 0.1160 - acc: 0.9786 - val_loss: 0.2264 - val_acc: 0.9477\n",
      "Epoch 97/125\n",
      "78/78 [==============================] - 2s 29ms/step - loss: 0.1145 - acc: 0.9790 - val_loss: 0.2325 - val_acc: 0.9514\n",
      "Epoch 98/125\n",
      "78/78 [==============================] - 2s 29ms/step - loss: 0.1046 - acc: 0.9852 - val_loss: 0.2332 - val_acc: 0.9528\n",
      "Epoch 99/125\n",
      "78/78 [==============================] - 2s 29ms/step - loss: 0.1199 - acc: 0.9744 - val_loss: 0.2324 - val_acc: 0.9477\n",
      "Epoch 100/125\n",
      "78/78 [==============================] - 2s 30ms/step - loss: 0.1021 - acc: 0.9811 - val_loss: 0.2495 - val_acc: 0.9528\n",
      "Epoch 101/125\n",
      "78/78 [==============================] - 2s 29ms/step - loss: 0.1196 - acc: 0.9782 - val_loss: 0.2511 - val_acc: 0.9454\n",
      "Epoch 102/125\n",
      "78/78 [==============================] - 2s 29ms/step - loss: 0.1039 - acc: 0.9832 - val_loss: 0.2216 - val_acc: 0.9556\n",
      "Epoch 103/125\n",
      "78/78 [==============================] - 2s 29ms/step - loss: 0.0941 - acc: 0.9858 - val_loss: 0.2221 - val_acc: 0.9514\n",
      "Epoch 104/125\n",
      "78/78 [==============================] - 2s 30ms/step - loss: 0.0954 - acc: 0.9874 - val_loss: 0.2275 - val_acc: 0.9569\n",
      "Epoch 105/125\n",
      "78/78 [==============================] - 2s 29ms/step - loss: 0.0994 - acc: 0.9854 - val_loss: 0.2391 - val_acc: 0.9574\n",
      "Epoch 106/125\n",
      "78/78 [==============================] - 2s 29ms/step - loss: 0.1009 - acc: 0.9838 - val_loss: 0.2357 - val_acc: 0.9560\n",
      "Epoch 107/125\n",
      "78/78 [==============================] - 2s 29ms/step - loss: 0.1001 - acc: 0.9853 - val_loss: 0.2384 - val_acc: 0.9500\n",
      "Epoch 108/125\n",
      "78/78 [==============================] - 2s 30ms/step - loss: 0.0920 - acc: 0.9872 - val_loss: 0.2263 - val_acc: 0.9532\n",
      "Epoch 109/125\n",
      "78/78 [==============================] - 2s 29ms/step - loss: 0.0910 - acc: 0.9871 - val_loss: 0.2255 - val_acc: 0.9579\n",
      "Epoch 110/125\n",
      "78/78 [==============================] - 2s 29ms/step - loss: 0.0922 - acc: 0.9875 - val_loss: 0.2235 - val_acc: 0.9556\n",
      "Epoch 111/125\n",
      "78/78 [==============================] - 2s 29ms/step - loss: 0.0917 - acc: 0.9864 - val_loss: 0.2259 - val_acc: 0.9560\n",
      "Epoch 112/125\n",
      "78/78 [==============================] - 2s 29ms/step - loss: 0.1017 - acc: 0.9847 - val_loss: 0.2203 - val_acc: 0.9551\n",
      "Epoch 113/125\n",
      "78/78 [==============================] - 2s 29ms/step - loss: 0.0933 - acc: 0.9859 - val_loss: 0.2304 - val_acc: 0.9542\n",
      "Epoch 114/125\n",
      "78/78 [==============================] - 3s 34ms/step - loss: 0.0899 - acc: 0.9859 - val_loss: 0.2374 - val_acc: 0.9532\n",
      "Epoch 115/125\n",
      "78/78 [==============================] - 3s 34ms/step - loss: 0.0899 - acc: 0.9858 - val_loss: 0.2471 - val_acc: 0.9542\n",
      "Epoch 116/125\n",
      "78/78 [==============================] - 3s 35ms/step - loss: 0.0915 - acc: 0.9860 - val_loss: 0.2209 - val_acc: 0.9556\n",
      "Epoch 117/125\n",
      "78/78 [==============================] - 3s 33ms/step - loss: 0.0908 - acc: 0.9872 - val_loss: 0.2331 - val_acc: 0.9579\n",
      "Epoch 118/125\n",
      "78/78 [==============================] - 2s 29ms/step - loss: 0.0866 - acc: 0.9896 - val_loss: 0.2209 - val_acc: 0.9569\n",
      "Epoch 119/125\n",
      "78/78 [==============================] - 2s 29ms/step - loss: 0.0907 - acc: 0.9880 - val_loss: 0.2109 - val_acc: 0.9583\n",
      "Epoch 120/125\n",
      "78/78 [==============================] - 2s 29ms/step - loss: 0.0915 - acc: 0.9853 - val_loss: 0.2330 - val_acc: 0.9500\n",
      "Epoch 121/125\n",
      "78/78 [==============================] - 2s 29ms/step - loss: 0.0892 - acc: 0.9868 - val_loss: 0.2240 - val_acc: 0.9583\n",
      "Epoch 122/125\n",
      "78/78 [==============================] - 2s 29ms/step - loss: 0.0819 - acc: 0.9881 - val_loss: 0.2315 - val_acc: 0.9602\n",
      "Epoch 123/125\n",
      "78/78 [==============================] - 2s 29ms/step - loss: 0.0959 - acc: 0.9858 - val_loss: 0.2152 - val_acc: 0.9546\n",
      "Epoch 124/125\n",
      "78/78 [==============================] - 2s 31ms/step - loss: 0.0915 - acc: 0.9852 - val_loss: 0.2282 - val_acc: 0.9523\n",
      "Epoch 125/125\n",
      "78/78 [==============================] - 3s 36ms/step - loss: 0.0817 - acc: 0.9886 - val_loss: 0.2526 - val_acc: 0.9514\n"
     ]
    },
    {
     "data": {
      "text/plain": [
       "<keras.callbacks.History at 0x7f0e36e06748>"
      ]
     },
     "execution_count": 20,
     "metadata": {},
     "output_type": "execute_result"
    }
   ],
   "source": [
    "#training\n",
    "batch_size = 64\n",
    " \n",
    "opt_rms = keras.optimizers.rmsprop(lr=0.001,decay=1e-6)\n",
    "model.compile(loss='binary_crossentropy', optimizer=opt_rms, metrics=['accuracy'])\n",
    "model.fit_generator(datagen.flow(x_train, y_train, batch_size=batch_size),\n",
    "                    steps_per_epoch=x_train.shape[0] // batch_size, epochs=125,\n",
    "                    verbose=1,validation_data=(x_test,y_test),callbacks=[LearningRateScheduler(lr_schedule)])"
   ]
  },
  {
   "cell_type": "code",
   "execution_count": 21,
   "metadata": {},
   "outputs": [
    {
     "data": {
      "text/plain": [
       "Text(0.5, 1.0, 'Accuracy')"
      ]
     },
     "execution_count": 21,
     "metadata": {},
     "output_type": "execute_result"
    },
    {
     "data": {
      "image/png": "[encoded data removed]",
      "text/plain": [
       "<Figure size 432x288 with 1 Axes>"
      ]
     },
     "metadata": {},
     "output_type": "display_data"
    }
   ],
   "source": [
    "plt.plot(model.history.history['acc'], c='blue', label='train')\n",
    "plt.plot(model.history.history['val_acc'], c='green', label='val')\n",
    "plt.legend()\n",
    "plt.title('Accuracy')"
   ]
  },
  {
   "cell_type": "code",
   "execution_count": 22,
   "metadata": {},
   "outputs": [
    {
     "data": {
      "text/plain": [
       "Text(0.5, 1.0, 'Loss')"
      ]
     },
     "execution_count": 22,
     "metadata": {},
     "output_type": "execute_result"
    },
    {
     "data": {
      "image/png": "[encoded data removed]",
      "text/plain": [
       "<Figure size 432x288 with 1 Axes>"
      ]
     },
     "metadata": {},
     "output_type": "display_data"
    }
   ],
   "source": [
    "plt.plot(model.history.history['loss'], c='blue', label='train')\n",
    "plt.plot(model.history.history['val_loss'], c='green', label='val')\n",
    "plt.legend()\n",
    "plt.title('Loss')"
   ]
  },
  {
   "cell_type": "code",
   "execution_count": 23,
   "metadata": {},
   "outputs": [],
   "source": [
    "y_pred = model.predict_classes(X_test)"
   ]
  },
  {
   "cell_type": "code",
   "execution_count": 24,
   "metadata": {
    "_kg_hide-output": false
   },
   "outputs": [
    {
     "name": "stdout",
     "output_type": "stream",
     "text": [
      "file created\n"
     ]
    }
   ],
   "source": [
    "submit_file(y_pred, 'best')"
   ]
  },
  {
   "cell_type": "code",
   "execution_count": 25,
   "metadata": {
    "_kg_hide-output": false
   },
   "outputs": [],
   "source": [
    "#save model to disk\n",
    "model_json = model.to_json()\n",
    "with open('model.json', 'w') as json_file:\n",
    "    json_file.write(model_json)\n",
    "model.save_weights('model.h5') "
   ]
  }
 ],
 "metadata": {
  "kernelspec": {
   "display_name": "Python 3",
   "language": "python",
   "name": "python3"
  },
  "language_info": {
   "codemirror_mode": {
    "name": "ipython",
    "version": 3
   },
   "file_extension": ".py",
   "mimetype": "text/x-python",
   "name": "python",
   "nbconvert_exporter": "python",
   "pygments_lexer": "ipython3",
   "version": "3.6.8"
  }
 },
 "nbformat": 4,
 "nbformat_minor": 1
}
