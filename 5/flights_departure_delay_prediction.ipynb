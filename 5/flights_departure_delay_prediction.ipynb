{
 "cells": [
  {
   "cell_type": "markdown",
   "metadata": {},
   "source": [
    "this competition https://www.kaggle.com/c/departure-delayed/"
   ]
  },
  {
   "cell_type": "code",
   "execution_count": 1,
   "metadata": {
    "_uuid": "b486c4beb6f64fbeb70610a0e5ed7145256605e1"
   },
   "outputs": [],
   "source": [
    "import warnings\n",
    "warnings.filterwarnings('ignore')\n",
    "import numpy as np\n",
    "import pandas as pd\n",
    "import matplotlib.pyplot as plt\n",
    "import seaborn as sns\n",
    "sns.set(style=\"white\")\n",
    "%matplotlib inline\n",
    "from sklearn.preprocessing import StandardScaler, OneHotEncoder\n",
    "from sklearn.pipeline import Pipeline\n",
    "from sklearn.model_selection import train_test_split\n",
    "from sklearn.linear_model import LinearRegression\n",
    "from sklearn.metrics import mean_absolute_error\n",
    "from sklearn.neighbors import KNeighborsRegressor\n",
    "from sklearn.ensemble import ExtraTreesRegressor\n",
    "from sklearn.model_selection import cross_val_score, GridSearchCV, StratifiedKFold\n",
    "from scipy.sparse import csr_matrix, hstack\n",
    "import lightgbm as lgb\n",
    "from lightgbm import LGBMRegressor\n",
    "from catboost import CatBoostRegressor\n",
    "%matplotlib inline"
   ]
  },
  {
   "cell_type": "code",
   "execution_count": 2,
   "metadata": {},
   "outputs": [],
   "source": [
    "def rmse(y_test, y_pred):\n",
    "    return np.sqrt(((y_test - y_pred) ** 2).mean())\n",
    "\n",
    "def rmse_cv(estimator, X_test, y_test):\n",
    "    \"\"\"metrics for this competition\"\"\"\n",
    "    return - np.sqrt(((estimator.predict(X_test) - y_test) ** 2).mean())\n",
    "\n",
    "def rmse_log(estimator, X_test, y_test):\n",
    "    \"\"\"metrics for this competition\"\"\"\n",
    "    return - np.sqrt(((np.exp(estimator.predict(X_test)) - np.exp(y_test)) ** 2).mean())\n",
    "\n",
    "def submit_file(y_pred, filename):\n",
    "    pd.Series(y_pred, name='DelayTime').to_csv('{}.csv'.format(filename), \n",
    "                                               index_label='id', header=True)\n",
    "def hacking_score(pred, y_train):\n",
    "    zeros_submit_score = 68.79140\n",
    "    return pred + zeros_submit_score - np.sqrt(np.square(y_train.values).mean())"
   ]
  },
  {
   "cell_type": "code",
   "execution_count": 3,
   "metadata": {},
   "outputs": [
    {
     "data": {
      "text/html": [
       "<div>\n",
       "<style scoped>\n",
       "    .dataframe tbody tr th:only-of-type {\n",
       "        vertical-align: middle;\n",
       "    }\n",
       "\n",
       "    .dataframe tbody tr th {\n",
       "        vertical-align: top;\n",
       "    }\n",
       "\n",
       "    .dataframe thead th {\n",
       "        text-align: right;\n",
       "    }\n",
       "</style>\n",
       "<table border=\"1\" class=\"dataframe\">\n",
       "  <thead>\n",
       "    <tr style=\"text-align: right;\">\n",
       "      <th></th>\n",
       "      <th>Year</th>\n",
       "      <th>Month</th>\n",
       "      <th>DayofMonth</th>\n",
       "      <th>DayOfWeek</th>\n",
       "      <th>CRSDepTime</th>\n",
       "      <th>CRSArrTime</th>\n",
       "      <th>UniqueCarrier</th>\n",
       "      <th>FlightNum</th>\n",
       "      <th>TailNum</th>\n",
       "      <th>CRSElapsedTime</th>\n",
       "      <th>Origin</th>\n",
       "      <th>Dest</th>\n",
       "      <th>Distance</th>\n",
       "    </tr>\n",
       "  </thead>\n",
       "  <tbody>\n",
       "    <tr>\n",
       "      <th>0</th>\n",
       "      <td>2008</td>\n",
       "      <td>4</td>\n",
       "      <td>23</td>\n",
       "      <td>3</td>\n",
       "      <td>700</td>\n",
       "      <td>907</td>\n",
       "      <td>US</td>\n",
       "      <td>1195</td>\n",
       "      <td>N119US</td>\n",
       "      <td>307.0</td>\n",
       "      <td>PHL</td>\n",
       "      <td>PHX</td>\n",
       "      <td>2075</td>\n",
       "    </tr>\n",
       "    <tr>\n",
       "      <th>1</th>\n",
       "      <td>2008</td>\n",
       "      <td>7</td>\n",
       "      <td>18</td>\n",
       "      <td>5</td>\n",
       "      <td>2154</td>\n",
       "      <td>2349</td>\n",
       "      <td>US</td>\n",
       "      <td>401</td>\n",
       "      <td>N637AW</td>\n",
       "      <td>115.0</td>\n",
       "      <td>PHX</td>\n",
       "      <td>SFO</td>\n",
       "      <td>651</td>\n",
       "    </tr>\n",
       "    <tr>\n",
       "      <th>2</th>\n",
       "      <td>2008</td>\n",
       "      <td>12</td>\n",
       "      <td>21</td>\n",
       "      <td>7</td>\n",
       "      <td>1921</td>\n",
       "      <td>1949</td>\n",
       "      <td>NW</td>\n",
       "      <td>1767</td>\n",
       "      <td>N782NC</td>\n",
       "      <td>88.0</td>\n",
       "      <td>DTW</td>\n",
       "      <td>MSN</td>\n",
       "      <td>312</td>\n",
       "    </tr>\n",
       "    <tr>\n",
       "      <th>3</th>\n",
       "      <td>2008</td>\n",
       "      <td>4</td>\n",
       "      <td>24</td>\n",
       "      <td>4</td>\n",
       "      <td>1955</td>\n",
       "      <td>2020</td>\n",
       "      <td>WN</td>\n",
       "      <td>1865</td>\n",
       "      <td>N272WN</td>\n",
       "      <td>145.0</td>\n",
       "      <td>SAT</td>\n",
       "      <td>PHX</td>\n",
       "      <td>843</td>\n",
       "    </tr>\n",
       "    <tr>\n",
       "      <th>4</th>\n",
       "      <td>2008</td>\n",
       "      <td>6</td>\n",
       "      <td>27</td>\n",
       "      <td>5</td>\n",
       "      <td>1700</td>\n",
       "      <td>1848</td>\n",
       "      <td>OH</td>\n",
       "      <td>5186</td>\n",
       "      <td>N804CA</td>\n",
       "      <td>108.0</td>\n",
       "      <td>ORF</td>\n",
       "      <td>CVG</td>\n",
       "      <td>485</td>\n",
       "    </tr>\n",
       "  </tbody>\n",
       "</table>\n",
       "</div>"
      ],
      "text/plain": [
       "   Year  Month  DayofMonth    ...     Origin  Dest  Distance\n",
       "0  2008      4          23    ...        PHL   PHX      2075\n",
       "1  2008      7          18    ...        PHX   SFO       651\n",
       "2  2008     12          21    ...        DTW   MSN       312\n",
       "3  2008      4          24    ...        SAT   PHX       843\n",
       "4  2008      6          27    ...        ORF   CVG       485\n",
       "\n",
       "[5 rows x 13 columns]"
      ]
     },
     "execution_count": 3,
     "metadata": {},
     "output_type": "execute_result"
    }
   ],
   "source": [
    "train_df = pd.read_csv('../input/train_features.csv')\n",
    "test_df = pd.read_csv('../input/test_features.csv')\n",
    "target = pd.read_csv('../input/train_target.csv', index_col='id')\n",
    "train_df.head()"
   ]
  },
  {
   "cell_type": "code",
   "execution_count": 4,
   "metadata": {},
   "outputs": [
    {
     "data": {
      "text/plain": [
       "((1355730, 13), (581028, 13))"
      ]
     },
     "execution_count": 4,
     "metadata": {},
     "output_type": "execute_result"
    }
   ],
   "source": [
    "train_df.shape, test_df.shape"
   ]
  },
  {
   "cell_type": "code",
   "execution_count": 5,
   "metadata": {},
   "outputs": [],
   "source": [
    "train_df['DepHour'] = train_df['CRSDepTime'] // 100\n",
    "train_df['DepHour'].replace(to_replace=24, value=0, inplace=True)\n",
    "train_df['DepTime'] = train_df['DepHour'] + train_df['CRSDepTime'] % 100  / 60\n",
    "\n",
    "test_df['DepHour'] = test_df['CRSDepTime'] // 100\n",
    "test_df['DepHour'].replace(to_replace=24, value=0, inplace=True)\n",
    "test_df['DepTime'] = test_df['DepHour'] + test_df['CRSDepTime'] % 100  / 60\n",
    "\n",
    "train_df['ArrHour'] = train_df['CRSArrTime'] // 100\n",
    "train_df['ArrHour'].replace(to_replace=24, value=0, inplace=True)\n",
    "train_df['ArrTime'] = train_df['ArrHour'] + train_df['CRSArrTime'] % 100  / 60\n",
    "\n",
    "test_df['ArrHour'] = test_df['CRSArrTime'] // 100\n",
    "test_df['ArrHour'].replace(to_replace=24, value=0, inplace=True)\n",
    "test_df['ArrTime'] = test_df['ArrHour'] + test_df['CRSArrTime'] % 100  / 60\n",
    "\n",
    "test_df.drop(['CRSDepTime', 'CRSArrTime', 'Year', ], axis=1, inplace=True)\n",
    "train_df.drop(['CRSDepTime', 'CRSArrTime', 'Year', ], axis=1, inplace=True)\n",
    "\n",
    "train_df['target'] = target"
   ]
  },
  {
   "cell_type": "code",
   "execution_count": 6,
   "metadata": {
    "_kg_hide-input": false
   },
   "outputs": [
    {
     "data": {
      "text/html": [
       "<div>\n",
       "<style scoped>\n",
       "    .dataframe tbody tr th:only-of-type {\n",
       "        vertical-align: middle;\n",
       "    }\n",
       "\n",
       "    .dataframe tbody tr th {\n",
       "        vertical-align: top;\n",
       "    }\n",
       "\n",
       "    .dataframe thead th {\n",
       "        text-align: right;\n",
       "    }\n",
       "</style>\n",
       "<table border=\"1\" class=\"dataframe\">\n",
       "  <thead>\n",
       "    <tr style=\"text-align: right;\">\n",
       "      <th></th>\n",
       "      <th>Month</th>\n",
       "      <th>DayofMonth</th>\n",
       "      <th>DayOfWeek</th>\n",
       "      <th>UniqueCarrier</th>\n",
       "      <th>FlightNum</th>\n",
       "      <th>TailNum</th>\n",
       "      <th>CRSElapsedTime</th>\n",
       "      <th>Origin</th>\n",
       "      <th>Dest</th>\n",
       "      <th>Distance</th>\n",
       "      <th>DepHour</th>\n",
       "      <th>DepTime</th>\n",
       "      <th>ArrHour</th>\n",
       "      <th>ArrTime</th>\n",
       "      <th>target</th>\n",
       "    </tr>\n",
       "  </thead>\n",
       "  <tbody>\n",
       "    <tr>\n",
       "      <th>0</th>\n",
       "      <td>4</td>\n",
       "      <td>23</td>\n",
       "      <td>3</td>\n",
       "      <td>US</td>\n",
       "      <td>1195</td>\n",
       "      <td>N119US</td>\n",
       "      <td>307.0</td>\n",
       "      <td>PHL</td>\n",
       "      <td>PHX</td>\n",
       "      <td>2075</td>\n",
       "      <td>7</td>\n",
       "      <td>7.000000</td>\n",
       "      <td>9</td>\n",
       "      <td>9.116667</td>\n",
       "      <td>15.0</td>\n",
       "    </tr>\n",
       "    <tr>\n",
       "      <th>1</th>\n",
       "      <td>7</td>\n",
       "      <td>18</td>\n",
       "      <td>5</td>\n",
       "      <td>US</td>\n",
       "      <td>401</td>\n",
       "      <td>N637AW</td>\n",
       "      <td>115.0</td>\n",
       "      <td>PHX</td>\n",
       "      <td>SFO</td>\n",
       "      <td>651</td>\n",
       "      <td>21</td>\n",
       "      <td>21.900000</td>\n",
       "      <td>23</td>\n",
       "      <td>23.816667</td>\n",
       "      <td>40.0</td>\n",
       "    </tr>\n",
       "    <tr>\n",
       "      <th>2</th>\n",
       "      <td>12</td>\n",
       "      <td>21</td>\n",
       "      <td>7</td>\n",
       "      <td>NW</td>\n",
       "      <td>1767</td>\n",
       "      <td>N782NC</td>\n",
       "      <td>88.0</td>\n",
       "      <td>DTW</td>\n",
       "      <td>MSN</td>\n",
       "      <td>312</td>\n",
       "      <td>19</td>\n",
       "      <td>19.350000</td>\n",
       "      <td>19</td>\n",
       "      <td>19.816667</td>\n",
       "      <td>31.0</td>\n",
       "    </tr>\n",
       "    <tr>\n",
       "      <th>3</th>\n",
       "      <td>4</td>\n",
       "      <td>24</td>\n",
       "      <td>4</td>\n",
       "      <td>WN</td>\n",
       "      <td>1865</td>\n",
       "      <td>N272WN</td>\n",
       "      <td>145.0</td>\n",
       "      <td>SAT</td>\n",
       "      <td>PHX</td>\n",
       "      <td>843</td>\n",
       "      <td>19</td>\n",
       "      <td>19.916667</td>\n",
       "      <td>20</td>\n",
       "      <td>20.333333</td>\n",
       "      <td>71.0</td>\n",
       "    </tr>\n",
       "    <tr>\n",
       "      <th>4</th>\n",
       "      <td>6</td>\n",
       "      <td>27</td>\n",
       "      <td>5</td>\n",
       "      <td>OH</td>\n",
       "      <td>5186</td>\n",
       "      <td>N804CA</td>\n",
       "      <td>108.0</td>\n",
       "      <td>ORF</td>\n",
       "      <td>CVG</td>\n",
       "      <td>485</td>\n",
       "      <td>17</td>\n",
       "      <td>17.000000</td>\n",
       "      <td>18</td>\n",
       "      <td>18.800000</td>\n",
       "      <td>15.0</td>\n",
       "    </tr>\n",
       "  </tbody>\n",
       "</table>\n",
       "</div>"
      ],
      "text/plain": [
       "   Month  DayofMonth  DayOfWeek  ...   ArrHour    ArrTime target\n",
       "0      4          23          3  ...         9   9.116667   15.0\n",
       "1      7          18          5  ...        23  23.816667   40.0\n",
       "2     12          21          7  ...        19  19.816667   31.0\n",
       "3      4          24          4  ...        20  20.333333   71.0\n",
       "4      6          27          5  ...        18  18.800000   15.0\n",
       "\n",
       "[5 rows x 15 columns]"
      ]
     },
     "execution_count": 6,
     "metadata": {},
     "output_type": "execute_result"
    }
   ],
   "source": [
    "train_df.head()"
   ]
  },
  {
   "cell_type": "code",
   "execution_count": 7,
   "metadata": {},
   "outputs": [
    {
     "data": {
      "text/plain": [
       "<matplotlib.axes._subplots.AxesSubplot at 0x7fec2b658400>"
      ]
     },
     "execution_count": 7,
     "metadata": {},
     "output_type": "execute_result"
    },
    {
     "data": {
      "image/png": "[encoded data removed]",
      "text/plain": [
       "<Figure size 792x648 with 2 Axes>"
      ]
     },
     "metadata": {},
     "output_type": "display_data"
    }
   ],
   "source": [
    "# Compute the correlation matrix\n",
    "corr = train_df.iloc[:, [0,1,2,4,6, -6,-5,-4,-3,-2,-1]].corr()\n",
    "\n",
    "# Generate a mask for the upper triangle\n",
    "mask = np.zeros_like(corr, dtype=np.bool)\n",
    "mask[np.triu_indices_from(mask)] = True\n",
    "\n",
    "# Set up the matplotlib figure\n",
    "f, ax = plt.subplots(figsize=(11, 9))\n",
    "\n",
    "# Generate a custom diverging colormap\n",
    "cmap = sns.diverging_palette(220, 10, as_cmap=True)\n",
    "\n",
    "# Draw the heatmap with the mask and correct aspect ratio\n",
    "sns.heatmap(corr, mask=mask, cmap=cmap, center=0,\n",
    "            square=True, linewidths=.5, cbar_kws={\"shrink\": .5}, annot=True)"
   ]
  },
  {
   "cell_type": "markdown",
   "metadata": {},
   "source": [
    "There are no strong correlations with target feature. But there is good correlation between _Distance_ and _CRSElapsedTime_. Drop _CRSElapsedTime_, it also has None values. "
   ]
  },
  {
   "cell_type": "code",
   "execution_count": 8,
   "metadata": {},
   "outputs": [],
   "source": [
    "test_df.drop(['CRSElapsedTime', ], axis=1, inplace=True)\n",
    "train_df.drop(['CRSElapsedTime', ], axis=1, inplace=True)"
   ]
  },
  {
   "cell_type": "code",
   "execution_count": 9,
   "metadata": {},
   "outputs": [],
   "source": [
    "# There are a little number (~5) of None in categorial column (TailNum), fill it!\n",
    "train_df.fillna('EVIL', inplace=True)\n",
    "test_df.fillna('EVIL', inplace=True)"
   ]
  },
  {
   "cell_type": "code",
   "execution_count": 10,
   "metadata": {},
   "outputs": [
    {
     "data": {
      "text/html": [
       "<div>\n",
       "<style scoped>\n",
       "    .dataframe tbody tr th:only-of-type {\n",
       "        vertical-align: middle;\n",
       "    }\n",
       "\n",
       "    .dataframe tbody tr th {\n",
       "        vertical-align: top;\n",
       "    }\n",
       "\n",
       "    .dataframe thead th {\n",
       "        text-align: right;\n",
       "    }\n",
       "</style>\n",
       "<table border=\"1\" class=\"dataframe\">\n",
       "  <thead>\n",
       "    <tr style=\"text-align: right;\">\n",
       "      <th></th>\n",
       "      <th>Month</th>\n",
       "      <th>DayofMonth</th>\n",
       "      <th>DayOfWeek</th>\n",
       "      <th>UniqueCarrier</th>\n",
       "      <th>FlightNum</th>\n",
       "      <th>TailNum</th>\n",
       "      <th>Origin</th>\n",
       "      <th>Dest</th>\n",
       "      <th>Distance</th>\n",
       "      <th>DepHour</th>\n",
       "      <th>DepTime</th>\n",
       "      <th>ArrHour</th>\n",
       "      <th>ArrTime</th>\n",
       "      <th>target</th>\n",
       "    </tr>\n",
       "  </thead>\n",
       "  <tbody>\n",
       "    <tr>\n",
       "      <th>0</th>\n",
       "      <td>4</td>\n",
       "      <td>23</td>\n",
       "      <td>3</td>\n",
       "      <td>US</td>\n",
       "      <td>1195</td>\n",
       "      <td>N119US</td>\n",
       "      <td>PHL</td>\n",
       "      <td>PHX</td>\n",
       "      <td>2075</td>\n",
       "      <td>7</td>\n",
       "      <td>7.000000</td>\n",
       "      <td>9</td>\n",
       "      <td>9.116667</td>\n",
       "      <td>15.0</td>\n",
       "    </tr>\n",
       "    <tr>\n",
       "      <th>1</th>\n",
       "      <td>7</td>\n",
       "      <td>18</td>\n",
       "      <td>5</td>\n",
       "      <td>US</td>\n",
       "      <td>401</td>\n",
       "      <td>N637AW</td>\n",
       "      <td>PHX</td>\n",
       "      <td>SFO</td>\n",
       "      <td>651</td>\n",
       "      <td>21</td>\n",
       "      <td>21.900000</td>\n",
       "      <td>23</td>\n",
       "      <td>23.816667</td>\n",
       "      <td>40.0</td>\n",
       "    </tr>\n",
       "    <tr>\n",
       "      <th>2</th>\n",
       "      <td>12</td>\n",
       "      <td>21</td>\n",
       "      <td>7</td>\n",
       "      <td>NW</td>\n",
       "      <td>1767</td>\n",
       "      <td>N782NC</td>\n",
       "      <td>DTW</td>\n",
       "      <td>MSN</td>\n",
       "      <td>312</td>\n",
       "      <td>19</td>\n",
       "      <td>19.350000</td>\n",
       "      <td>19</td>\n",
       "      <td>19.816667</td>\n",
       "      <td>31.0</td>\n",
       "    </tr>\n",
       "    <tr>\n",
       "      <th>3</th>\n",
       "      <td>4</td>\n",
       "      <td>24</td>\n",
       "      <td>4</td>\n",
       "      <td>WN</td>\n",
       "      <td>1865</td>\n",
       "      <td>N272WN</td>\n",
       "      <td>SAT</td>\n",
       "      <td>PHX</td>\n",
       "      <td>843</td>\n",
       "      <td>19</td>\n",
       "      <td>19.916667</td>\n",
       "      <td>20</td>\n",
       "      <td>20.333333</td>\n",
       "      <td>71.0</td>\n",
       "    </tr>\n",
       "    <tr>\n",
       "      <th>4</th>\n",
       "      <td>6</td>\n",
       "      <td>27</td>\n",
       "      <td>5</td>\n",
       "      <td>OH</td>\n",
       "      <td>5186</td>\n",
       "      <td>N804CA</td>\n",
       "      <td>ORF</td>\n",
       "      <td>CVG</td>\n",
       "      <td>485</td>\n",
       "      <td>17</td>\n",
       "      <td>17.000000</td>\n",
       "      <td>18</td>\n",
       "      <td>18.800000</td>\n",
       "      <td>15.0</td>\n",
       "    </tr>\n",
       "  </tbody>\n",
       "</table>\n",
       "</div>"
      ],
      "text/plain": [
       "   Month  DayofMonth  DayOfWeek  ...   ArrHour    ArrTime target\n",
       "0      4          23          3  ...         9   9.116667   15.0\n",
       "1      7          18          5  ...        23  23.816667   40.0\n",
       "2     12          21          7  ...        19  19.816667   31.0\n",
       "3      4          24          4  ...        20  20.333333   71.0\n",
       "4      6          27          5  ...        18  18.800000   15.0\n",
       "\n",
       "[5 rows x 14 columns]"
      ]
     },
     "execution_count": 10,
     "metadata": {},
     "output_type": "execute_result"
    }
   ],
   "source": [
    "train_df.head()"
   ]
  },
  {
   "cell_type": "code",
   "execution_count": 11,
   "metadata": {},
   "outputs": [
    {
     "data": {
      "text/html": [
       "<div>\n",
       "<style scoped>\n",
       "    .dataframe tbody tr th:only-of-type {\n",
       "        vertical-align: middle;\n",
       "    }\n",
       "\n",
       "    .dataframe tbody tr th {\n",
       "        vertical-align: top;\n",
       "    }\n",
       "\n",
       "    .dataframe thead th {\n",
       "        text-align: right;\n",
       "    }\n",
       "</style>\n",
       "<table border=\"1\" class=\"dataframe\">\n",
       "  <thead>\n",
       "    <tr style=\"text-align: right;\">\n",
       "      <th></th>\n",
       "      <th>Month</th>\n",
       "      <th>DayofMonth</th>\n",
       "      <th>DayOfWeek</th>\n",
       "      <th>UniqueCarrier</th>\n",
       "      <th>FlightNum</th>\n",
       "      <th>TailNum</th>\n",
       "      <th>Origin</th>\n",
       "      <th>Dest</th>\n",
       "      <th>Distance</th>\n",
       "      <th>DepHour</th>\n",
       "      <th>DepTime</th>\n",
       "      <th>ArrHour</th>\n",
       "      <th>ArrTime</th>\n",
       "    </tr>\n",
       "  </thead>\n",
       "  <tbody>\n",
       "    <tr>\n",
       "      <th>0</th>\n",
       "      <td>2</td>\n",
       "      <td>14</td>\n",
       "      <td>4</td>\n",
       "      <td>NW</td>\n",
       "      <td>1221</td>\n",
       "      <td>N371NW</td>\n",
       "      <td>DTW</td>\n",
       "      <td>DEN</td>\n",
       "      <td>1123</td>\n",
       "      <td>12</td>\n",
       "      <td>12.366667</td>\n",
       "      <td>13</td>\n",
       "      <td>13.500000</td>\n",
       "    </tr>\n",
       "    <tr>\n",
       "      <th>1</th>\n",
       "      <td>1</td>\n",
       "      <td>13</td>\n",
       "      <td>7</td>\n",
       "      <td>FL</td>\n",
       "      <td>182</td>\n",
       "      <td>N974AT</td>\n",
       "      <td>ATL</td>\n",
       "      <td>DCA</td>\n",
       "      <td>547</td>\n",
       "      <td>21</td>\n",
       "      <td>21.166667</td>\n",
       "      <td>22</td>\n",
       "      <td>22.850000</td>\n",
       "    </tr>\n",
       "    <tr>\n",
       "      <th>2</th>\n",
       "      <td>7</td>\n",
       "      <td>22</td>\n",
       "      <td>2</td>\n",
       "      <td>EV</td>\n",
       "      <td>4154</td>\n",
       "      <td>N738EV</td>\n",
       "      <td>ALB</td>\n",
       "      <td>ATL</td>\n",
       "      <td>852</td>\n",
       "      <td>16</td>\n",
       "      <td>16.416667</td>\n",
       "      <td>19</td>\n",
       "      <td>19.000000</td>\n",
       "    </tr>\n",
       "    <tr>\n",
       "      <th>3</th>\n",
       "      <td>5</td>\n",
       "      <td>14</td>\n",
       "      <td>3</td>\n",
       "      <td>AA</td>\n",
       "      <td>1326</td>\n",
       "      <td>N523AA</td>\n",
       "      <td>STL</td>\n",
       "      <td>TPA</td>\n",
       "      <td>869</td>\n",
       "      <td>15</td>\n",
       "      <td>15.166667</td>\n",
       "      <td>18</td>\n",
       "      <td>18.333333</td>\n",
       "    </tr>\n",
       "    <tr>\n",
       "      <th>4</th>\n",
       "      <td>4</td>\n",
       "      <td>1</td>\n",
       "      <td>2</td>\n",
       "      <td>US</td>\n",
       "      <td>1910</td>\n",
       "      <td>N109UW</td>\n",
       "      <td>CLT</td>\n",
       "      <td>LGA</td>\n",
       "      <td>544</td>\n",
       "      <td>9</td>\n",
       "      <td>9.916667</td>\n",
       "      <td>11</td>\n",
       "      <td>11.883333</td>\n",
       "    </tr>\n",
       "  </tbody>\n",
       "</table>\n",
       "</div>"
      ],
      "text/plain": [
       "   Month  DayofMonth  DayOfWeek    ...        DepTime  ArrHour    ArrTime\n",
       "0      2          14          4    ...      12.366667       13  13.500000\n",
       "1      1          13          7    ...      21.166667       22  22.850000\n",
       "2      7          22          2    ...      16.416667       19  19.000000\n",
       "3      5          14          3    ...      15.166667       18  18.333333\n",
       "4      4           1          2    ...       9.916667       11  11.883333\n",
       "\n",
       "[5 rows x 13 columns]"
      ]
     },
     "execution_count": 11,
     "metadata": {},
     "output_type": "execute_result"
    }
   ],
   "source": [
    "test_df.head()"
   ]
  },
  {
   "cell_type": "code",
   "execution_count": 12,
   "metadata": {},
   "outputs": [],
   "source": [
    "# train_df.target.plot.hist(bins=50)"
   ]
  },
  {
   "cell_type": "code",
   "execution_count": 13,
   "metadata": {},
   "outputs": [],
   "source": [
    "# _ = plt.hist(np.log(train_df.target), bins=50)"
   ]
  },
  {
   "cell_type": "markdown",
   "metadata": {},
   "source": [
    "In the future we will try to train model to predict log values, it is more normal"
   ]
  },
  {
   "cell_type": "markdown",
   "metadata": {},
   "source": [
    "Some _FlightNum_s have long delay and some almost don't have"
   ]
  },
  {
   "cell_type": "code",
   "execution_count": 14,
   "metadata": {},
   "outputs": [],
   "source": [
    "# train_df.FlightNum.nunique(), train_df.TailNum.nunique()"
   ]
  },
  {
   "cell_type": "markdown",
   "metadata": {},
   "source": [
    "**Simple catboost**"
   ]
  },
  {
   "cell_type": "code",
   "execution_count": 15,
   "metadata": {},
   "outputs": [],
   "source": [
    "# cbr = CatBoostRegressor(logging_level='Silent', random_state=45, \n",
    "#                         early_stopping_rounds=300, )"
   ]
  },
  {
   "cell_type": "code",
   "execution_count": 16,
   "metadata": {},
   "outputs": [],
   "source": [
    "# simple catboost regressor without setup\n",
    "# cbr.fit(train_df.drop('target', axis=1), target, cat_features=[0,1,2,3,4,5,6,7,9,11], plot=True)"
   ]
  },
  {
   "cell_type": "code",
   "execution_count": 17,
   "metadata": {},
   "outputs": [],
   "source": [
    "# cb_pred = cbr.predict(test_df, verbose=True)"
   ]
  },
  {
   "cell_type": "markdown",
   "metadata": {},
   "source": [
    "## Features creation"
   ]
  },
  {
   "cell_type": "code",
   "execution_count": 18,
   "metadata": {},
   "outputs": [],
   "source": [
    "# train['week_high'] = ((train['DayOfWeek'].isin([4, 5, 1, 7]))).astype('int')"
   ]
  },
  {
   "cell_type": "code",
   "execution_count": 19,
   "metadata": {},
   "outputs": [],
   "source": [
    "# plt.figure(figsize=(20, 10))\n",
    "# sns.boxplot(data=train_df, x='DepHour', y='target',)"
   ]
  },
  {
   "cell_type": "code",
   "execution_count": 20,
   "metadata": {},
   "outputs": [],
   "source": [
    "# train_df.groupby('DepHour').target.median().plot.bar()"
   ]
  },
  {
   "cell_type": "code",
   "execution_count": 21,
   "metadata": {},
   "outputs": [],
   "source": [
    "OHE = OneHotEncoder(handle_unknown='ignore')\n",
    "\n",
    "ohe_x_train = OHE.fit_transform(train_df.iloc[:, [0,1,2,3,4,5,6,7,9,11]])\n",
    "num_x_train = train_df.iloc[:, [8, 10, 12]]\n",
    "\n",
    "ohe_x_test = OHE.transform(test_df.iloc[:, [0,1,2,3,4,5,6,7,9,11]])\n",
    "num_x_test = test_df.iloc[:, [8, 10, 12]]\n",
    "\n",
    "X = hstack([ohe_x_train, num_x_train]).tocsr()\n",
    "X_test = hstack([ohe_x_test, num_x_test]).tocsr()\n",
    "y = train_df.target.values\n",
    "\n",
    "# X_train, X_valid, y_train, y_valid = train_test_split(X, y, test_size=0.33, random_state=46)"
   ]
  },
  {
   "cell_type": "code",
   "execution_count": 22,
   "metadata": {},
   "outputs": [],
   "source": [
    "# lcv = cross_val_score(LinearRegression(), X, y, scoring=rmse_cv , cv=5, n_jobs=-1, verbose=1)\n",
    "# lcv"
   ]
  },
  {
   "cell_type": "code",
   "execution_count": 23,
   "metadata": {},
   "outputs": [
    {
     "data": {
      "text/plain": [
       "((1355730, 13575), (581028, 13575), (1355730,))"
      ]
     },
     "execution_count": 23,
     "metadata": {},
     "output_type": "execute_result"
    }
   ],
   "source": [
    "X.shape, X_test.shape, y.shape"
   ]
  },
  {
   "cell_type": "code",
   "execution_count": 24,
   "metadata": {},
   "outputs": [],
   "source": [
    "# cat_features=[0,1,2,3,4,5,6,7,9,11]\n",
    "# dart mode\n",
    "\n",
    "\n",
    "param = {'num_leaves': 200, \n",
    "         'objective': 'tweedie',\n",
    "         'metric': 'rmse', \n",
    "         'verbosity' : 0, \n",
    "         'max_depth': -1, \n",
    "         'learning_rate': 0.01, \n",
    "         'num_threads': 4, \n",
    "#          'reg_alpha': 0.01, \n",
    "#          'reg_lambda': 3\n",
    "}\n",
    "\n",
    "def LGB_cv_scoring(X_train, y_train, X_test, num_round=5000, early_stopping_rounds=200, \n",
    "               verbose_eval=500, param=param, nfolds=5):\n",
    "    \n",
    "    predict = np.zeros(X_test.shape[0])\n",
    "        \n",
    "    oof = np.zeros(X_train.shape[0])\n",
    "    folds = StratifiedKFold(n_splits=nfolds, shuffle=True, random_state=870)\n",
    "    for fold_, (ind_trn, ind_valid) in enumerate(folds.split(X_train, y_train)):\n",
    "        print(\"Fold {}\".format(fold_))\n",
    "\n",
    "        X_train_lgbm = lgb.Dataset(X_train[ind_trn], y_train[ind_trn])\n",
    "        X_valid_lgbm = lgb.Dataset(X_train[ind_valid], y_train[ind_valid])\n",
    "\n",
    "        clf = lgb.train(param, X_train_lgbm, num_round, \n",
    "                             valid_sets=[X_valid_lgbm], \n",
    "                             early_stopping_rounds=early_stopping_rounds, \n",
    "                             verbose_eval=verbose_eval)\n",
    "        oof[ind_valid] = clf.predict(X_train[ind_valid], num_iteration = clf.best_iteration)\n",
    "        \n",
    "        pred = clf.predict(X_test, num_iteration=clf.best_iteration) / nfolds\n",
    "        predict += pred  \n",
    "    print(\"CV score: {:<8.5f}\".format(rmse(y_train, oof)))\n",
    "    return np.array(predict)"
   ]
  },
  {
   "cell_type": "code",
   "execution_count": 25,
   "metadata": {},
   "outputs": [],
   "source": [
    "def CB_cv_scoring(X_train, y_train, X_test, nfolds=5):\n",
    "    \n",
    "    predict = np.zeros(X_test.shape[0])\n",
    "        \n",
    "    oof = np.zeros(X_train.shape[0])\n",
    "    folds = StratifiedKFold(n_splits=nfolds, shuffle=True, random_state=870)\n",
    "    for fold_, (ind_trn, ind_valid) in enumerate(folds.split(X_train, y_train)):\n",
    "        print(\"Fold {}\".format(fold_))\n",
    "\n",
    "        clf = CatBoostRegressor(\n",
    "            random_seed=42,\n",
    "            logging_level='Silent',\n",
    "            early_stopping_rounds=200,\n",
    "        #     learning_rate=0.1,  \n",
    "        )\n",
    "        categorical_features_indices = [0,1,2,3,4,5,6,7,9,11]\n",
    "        clf.fit(\n",
    "            X_train.iloc[ind_trn], y_train.iloc[ind_trn],\n",
    "            cat_features=categorical_features_indices,\n",
    "            eval_set=(X_train.iloc[ind_valid], y_train.iloc[ind_valid]),\n",
    "        #     logging_level='Verbose',  # you can uncomment this for text output\n",
    "#             plot=True\n",
    "        );\n",
    "\n",
    "        oof[ind_valid] = clf.predict(X_train.iloc[ind_valid],)\n",
    "        \n",
    "        pred = clf.predict(X_test) / nfolds\n",
    "        predict += pred  \n",
    "    print(\"CV score: {:<8.5f}\".format(rmse(y_train, oof)))\n",
    "    return np.array(predict)"
   ]
  },
  {
   "cell_type": "code",
   "execution_count": 26,
   "metadata": {},
   "outputs": [
    {
     "name": "stdout",
     "output_type": "stream",
     "text": [
      "Fold 0\n",
      "Training until validation scores don't improve for 200 rounds.\n",
      "[500]\tvalid_0's rmse: 46.8333\n",
      "[1000]\tvalid_0's rmse: 46.4032\n",
      "[1500]\tvalid_0's rmse: 46.2316\n",
      "[2000]\tvalid_0's rmse: 46.1204\n",
      "[2500]\tvalid_0's rmse: 46.0517\n",
      "[3000]\tvalid_0's rmse: 45.9973\n",
      "[3500]\tvalid_0's rmse: 45.9558\n",
      "[4000]\tvalid_0's rmse: 45.9232\n",
      "[4500]\tvalid_0's rmse: 45.8941\n",
      "[5000]\tvalid_0's rmse: 45.877\n",
      "Did not meet early stopping. Best iteration is:\n",
      "[5000]\tvalid_0's rmse: 45.877\n",
      "Fold 1\n",
      "Training until validation scores don't improve for 200 rounds.\n",
      "[500]\tvalid_0's rmse: 50.2889\n",
      "[1000]\tvalid_0's rmse: 49.8977\n",
      "[1500]\tvalid_0's rmse: 49.7573\n",
      "[2000]\tvalid_0's rmse: 49.6517\n",
      "[2500]\tvalid_0's rmse: 49.5673\n",
      "[3000]\tvalid_0's rmse: 49.5076\n",
      "[3500]\tvalid_0's rmse: 49.4585\n",
      "[4000]\tvalid_0's rmse: 49.4266\n",
      "[4500]\tvalid_0's rmse: 49.3986\n",
      "[5000]\tvalid_0's rmse: 49.3784\n",
      "Did not meet early stopping. Best iteration is:\n",
      "[4998]\tvalid_0's rmse: 49.3783\n",
      "Fold 2\n",
      "Training until validation scores don't improve for 200 rounds.\n",
      "[500]\tvalid_0's rmse: 57.2097\n",
      "[1000]\tvalid_0's rmse: 56.8428\n",
      "[1500]\tvalid_0's rmse: 56.7188\n",
      "[2000]\tvalid_0's rmse: 56.6389\n",
      "[2500]\tvalid_0's rmse: 56.5816\n",
      "[3000]\tvalid_0's rmse: 56.5354\n",
      "[3500]\tvalid_0's rmse: 56.5049\n",
      "[4000]\tvalid_0's rmse: 56.4813\n",
      "[4500]\tvalid_0's rmse: 56.4562\n",
      "[5000]\tvalid_0's rmse: 56.4342\n",
      "Did not meet early stopping. Best iteration is:\n",
      "[4999]\tvalid_0's rmse: 56.4342\n",
      "Fold 3\n",
      "Training until validation scores don't improve for 200 rounds.\n",
      "[500]\tvalid_0's rmse: 47.7218\n",
      "[1000]\tvalid_0's rmse: 47.3355\n",
      "[1500]\tvalid_0's rmse: 47.1727\n",
      "[2000]\tvalid_0's rmse: 47.0776\n",
      "[2500]\tvalid_0's rmse: 47.0149\n",
      "[3000]\tvalid_0's rmse: 46.9624\n",
      "[3500]\tvalid_0's rmse: 46.9231\n",
      "[4000]\tvalid_0's rmse: 46.89\n",
      "[4500]\tvalid_0's rmse: 46.8532\n",
      "[5000]\tvalid_0's rmse: 46.8298\n",
      "Did not meet early stopping. Best iteration is:\n",
      "[4983]\tvalid_0's rmse: 46.8297\n",
      "Fold 4\n",
      "Training until validation scores don't improve for 200 rounds.\n",
      "[500]\tvalid_0's rmse: 46.4382\n",
      "[1000]\tvalid_0's rmse: 46.0287\n",
      "[1500]\tvalid_0's rmse: 45.8627\n",
      "[2000]\tvalid_0's rmse: 45.7593\n",
      "[2500]\tvalid_0's rmse: 45.6781\n",
      "[3000]\tvalid_0's rmse: 45.6206\n",
      "[3500]\tvalid_0's rmse: 45.5851\n",
      "[4000]\tvalid_0's rmse: 45.5564\n",
      "[4500]\tvalid_0's rmse: 45.536\n",
      "[5000]\tvalid_0's rmse: 45.5244\n",
      "Did not meet early stopping. Best iteration is:\n",
      "[4998]\tvalid_0's rmse: 45.5243\n",
      "CV score: 48.97856\n"
     ]
    }
   ],
   "source": [
    "lgb_pred = LGB_cv_scoring(X, y, X_test)\n",
    "submit_file(lgb_pred, 'lgb_pred')"
   ]
  },
  {
   "cell_type": "code",
   "execution_count": 27,
   "metadata": {},
   "outputs": [
    {
     "name": "stdout",
     "output_type": "stream",
     "text": [
      "Fold 0\n",
      "Fold 1\n",
      "Fold 2\n",
      "Fold 3\n",
      "Fold 4\n",
      "CV score: 47.69772\n"
     ]
    }
   ],
   "source": [
    "cat_pred = CB_cv_scoring(train_df.drop('target', axis=1), train_df.target, test_df)\n",
    "submit_file(cat_pred, 'cat_pred')"
   ]
  },
  {
   "cell_type": "code",
   "execution_count": 28,
   "metadata": {},
   "outputs": [],
   "source": [
    "mix_pred = (lgb_pred + cat_pred) / 2\n",
    "submit_file(mix_pred, 'mix_pred')"
   ]
  },
  {
   "cell_type": "code",
   "execution_count": null,
   "metadata": {},
   "outputs": [],
   "source": [
    "hack_mix_pred = hacking_score(mix_pred, y)\n",
    "submit_file(hack_mix_pred, 'hack_mix_pred')"
   ]
  }
 ],
 "metadata": {
  "kernelspec": {
   "display_name": "Python 3",
   "language": "python",
   "name": "python3"
  },
  "language_info": {
   "codemirror_mode": {
    "name": "ipython",
    "version": 3
   },
   "file_extension": ".py",
   "mimetype": "text/x-python",
   "name": "python",
   "nbconvert_exporter": "python",
   "pygments_lexer": "ipython3",
   "version": "3.6.8"
  }
 },
 "nbformat": 4,
 "nbformat_minor": 1
}
