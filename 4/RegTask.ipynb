{
 "cells": [
  {
   "cell_type": "markdown",
   "metadata": {},
   "source": [
    "# Линейная регрессия."
   ]
  },
  {
   "cell_type": "code",
   "execution_count": 1,
   "metadata": {},
   "outputs": [],
   "source": [
    "import numpy as np\n",
    "import scipy\n",
    "import pandas as pd\n",
    "import matplotlib.pyplot as plt\n",
    "%matplotlib inline"
   ]
  },
  {
   "cell_type": "code",
   "execution_count": 2,
   "metadata": {},
   "outputs": [],
   "source": [
    "import sklearn\n",
    "import sklearn.linear_model\n",
    "import sklearn.metrics"
   ]
  },
  {
   "cell_type": "code",
   "execution_count": 3,
   "metadata": {},
   "outputs": [],
   "source": [
    "data = pd.read_csv('wine_regression.csv')"
   ]
  },
  {
   "cell_type": "code",
   "execution_count": 4,
   "metadata": {
    "scrolled": true
   },
   "outputs": [
    {
     "data": {
      "text/html": [
       "<div>\n",
       "<style scoped>\n",
       "    .dataframe tbody tr th:only-of-type {\n",
       "        vertical-align: middle;\n",
       "    }\n",
       "\n",
       "    .dataframe tbody tr th {\n",
       "        vertical-align: top;\n",
       "    }\n",
       "\n",
       "    .dataframe thead th {\n",
       "        text-align: right;\n",
       "    }\n",
       "</style>\n",
       "<table border=\"1\" class=\"dataframe\">\n",
       "  <thead>\n",
       "    <tr style=\"text-align: right;\">\n",
       "      <th></th>\n",
       "      <th>fixed acidity</th>\n",
       "      <th>volatile acidity</th>\n",
       "      <th>citric acid</th>\n",
       "      <th>residual sugar</th>\n",
       "      <th>chlorides</th>\n",
       "      <th>free sulfur dioxide</th>\n",
       "      <th>total sulfur dioxide</th>\n",
       "      <th>density</th>\n",
       "      <th>pH</th>\n",
       "      <th>sulphates</th>\n",
       "      <th>alcohol</th>\n",
       "      <th>quality</th>\n",
       "    </tr>\n",
       "  </thead>\n",
       "  <tbody>\n",
       "    <tr>\n",
       "      <th>count</th>\n",
       "      <td>400.00000</td>\n",
       "      <td>400.000000</td>\n",
       "      <td>400.000000</td>\n",
       "      <td>400.000000</td>\n",
       "      <td>400.000000</td>\n",
       "      <td>400.000000</td>\n",
       "      <td>400.000000</td>\n",
       "      <td>400.000000</td>\n",
       "      <td>400.000000</td>\n",
       "      <td>400.000000</td>\n",
       "      <td>400.000000</td>\n",
       "      <td>400.000000</td>\n",
       "    </tr>\n",
       "    <tr>\n",
       "      <th>mean</th>\n",
       "      <td>8.30525</td>\n",
       "      <td>0.525613</td>\n",
       "      <td>0.271950</td>\n",
       "      <td>2.522500</td>\n",
       "      <td>0.087540</td>\n",
       "      <td>16.267500</td>\n",
       "      <td>47.020000</td>\n",
       "      <td>0.996712</td>\n",
       "      <td>3.303900</td>\n",
       "      <td>0.648200</td>\n",
       "      <td>10.381125</td>\n",
       "      <td>5.602500</td>\n",
       "    </tr>\n",
       "    <tr>\n",
       "      <th>std</th>\n",
       "      <td>1.73299</td>\n",
       "      <td>0.181845</td>\n",
       "      <td>0.193609</td>\n",
       "      <td>1.333098</td>\n",
       "      <td>0.046727</td>\n",
       "      <td>10.934342</td>\n",
       "      <td>35.198465</td>\n",
       "      <td>0.001889</td>\n",
       "      <td>0.147992</td>\n",
       "      <td>0.157134</td>\n",
       "      <td>1.032203</td>\n",
       "      <td>0.846336</td>\n",
       "    </tr>\n",
       "    <tr>\n",
       "      <th>min</th>\n",
       "      <td>5.00000</td>\n",
       "      <td>0.120000</td>\n",
       "      <td>0.000000</td>\n",
       "      <td>1.200000</td>\n",
       "      <td>0.039000</td>\n",
       "      <td>1.000000</td>\n",
       "      <td>6.000000</td>\n",
       "      <td>0.990800</td>\n",
       "      <td>2.920000</td>\n",
       "      <td>0.400000</td>\n",
       "      <td>8.800000</td>\n",
       "      <td>3.000000</td>\n",
       "    </tr>\n",
       "    <tr>\n",
       "      <th>25%</th>\n",
       "      <td>7.10000</td>\n",
       "      <td>0.390000</td>\n",
       "      <td>0.090000</td>\n",
       "      <td>1.900000</td>\n",
       "      <td>0.070000</td>\n",
       "      <td>7.000000</td>\n",
       "      <td>21.000000</td>\n",
       "      <td>0.995648</td>\n",
       "      <td>3.200000</td>\n",
       "      <td>0.550000</td>\n",
       "      <td>9.500000</td>\n",
       "      <td>5.000000</td>\n",
       "    </tr>\n",
       "    <tr>\n",
       "      <th>50%</th>\n",
       "      <td>7.90000</td>\n",
       "      <td>0.520000</td>\n",
       "      <td>0.260000</td>\n",
       "      <td>2.200000</td>\n",
       "      <td>0.078000</td>\n",
       "      <td>14.000000</td>\n",
       "      <td>37.000000</td>\n",
       "      <td>0.996750</td>\n",
       "      <td>3.300000</td>\n",
       "      <td>0.610000</td>\n",
       "      <td>10.050000</td>\n",
       "      <td>6.000000</td>\n",
       "    </tr>\n",
       "    <tr>\n",
       "      <th>75%</th>\n",
       "      <td>9.20000</td>\n",
       "      <td>0.631250</td>\n",
       "      <td>0.420000</td>\n",
       "      <td>2.600000</td>\n",
       "      <td>0.091000</td>\n",
       "      <td>23.000000</td>\n",
       "      <td>61.000000</td>\n",
       "      <td>0.997873</td>\n",
       "      <td>3.390000</td>\n",
       "      <td>0.710000</td>\n",
       "      <td>11.000000</td>\n",
       "      <td>6.000000</td>\n",
       "    </tr>\n",
       "    <tr>\n",
       "      <th>max</th>\n",
       "      <td>15.50000</td>\n",
       "      <td>1.185000</td>\n",
       "      <td>0.760000</td>\n",
       "      <td>13.800000</td>\n",
       "      <td>0.415000</td>\n",
       "      <td>68.000000</td>\n",
       "      <td>289.000000</td>\n",
       "      <td>1.003150</td>\n",
       "      <td>4.010000</td>\n",
       "      <td>1.590000</td>\n",
       "      <td>14.000000</td>\n",
       "      <td>8.000000</td>\n",
       "    </tr>\n",
       "  </tbody>\n",
       "</table>\n",
       "</div>"
      ],
      "text/plain": [
       "       fixed acidity  volatile acidity  citric acid  residual sugar  \\\n",
       "count      400.00000        400.000000   400.000000      400.000000   \n",
       "mean         8.30525          0.525613     0.271950        2.522500   \n",
       "std          1.73299          0.181845     0.193609        1.333098   \n",
       "min          5.00000          0.120000     0.000000        1.200000   \n",
       "25%          7.10000          0.390000     0.090000        1.900000   \n",
       "50%          7.90000          0.520000     0.260000        2.200000   \n",
       "75%          9.20000          0.631250     0.420000        2.600000   \n",
       "max         15.50000          1.185000     0.760000       13.800000   \n",
       "\n",
       "        chlorides  free sulfur dioxide  total sulfur dioxide     density  \\\n",
       "count  400.000000           400.000000            400.000000  400.000000   \n",
       "mean     0.087540            16.267500             47.020000    0.996712   \n",
       "std      0.046727            10.934342             35.198465    0.001889   \n",
       "min      0.039000             1.000000              6.000000    0.990800   \n",
       "25%      0.070000             7.000000             21.000000    0.995648   \n",
       "50%      0.078000            14.000000             37.000000    0.996750   \n",
       "75%      0.091000            23.000000             61.000000    0.997873   \n",
       "max      0.415000            68.000000            289.000000    1.003150   \n",
       "\n",
       "               pH   sulphates     alcohol     quality  \n",
       "count  400.000000  400.000000  400.000000  400.000000  \n",
       "mean     3.303900    0.648200   10.381125    5.602500  \n",
       "std      0.147992    0.157134    1.032203    0.846336  \n",
       "min      2.920000    0.400000    8.800000    3.000000  \n",
       "25%      3.200000    0.550000    9.500000    5.000000  \n",
       "50%      3.300000    0.610000   10.050000    6.000000  \n",
       "75%      3.390000    0.710000   11.000000    6.000000  \n",
       "max      4.010000    1.590000   14.000000    8.000000  "
      ]
     },
     "execution_count": 4,
     "metadata": {},
     "output_type": "execute_result"
    }
   ],
   "source": [
    "data.describe()"
   ]
  },
  {
   "cell_type": "markdown",
   "metadata": {},
   "source": [
    "Данные часть набора данных о химическом составе испанских и португальских вин - кислотность, количество сахара, плотность, количество диоксида серы, количество спирта. Последний столбец - quality - результат слепого тестирования вин - оценка от 0 до 10.\n",
    "В этом ноутбуке надо построить регрессию от параметров данных на стобец quality.\n",
    "\n",
    "**Построить регресию на качество**   \n",
    "Здесь достаточно данных, можно попробовать поработать над качеством модели."
   ]
  },
  {
   "cell_type": "code",
   "execution_count": 5,
   "metadata": {},
   "outputs": [],
   "source": [
    "import warnings\n",
    "warnings.filterwarnings('ignore')\n",
    "import numpy as np\n",
    "import pandas as pd\n",
    "import matplotlib.pyplot as plt\n",
    "import seaborn as sns\n",
    "%matplotlib inline\n",
    "from sklearn.preprocessing import StandardScaler, OneHotEncoder, PolynomialFeatures\n",
    "from sklearn.pipeline import Pipeline\n",
    "from sklearn.model_selection import train_test_split\n",
    "from sklearn.linear_model import LogisticRegression, Ridge, LinearRegression\n",
    "from sklearn.neighbors import KNeighborsRegressor\n",
    "from sklearn.ensemble import ExtraTreesRegressor\n",
    "from sklearn.metrics import mean_absolute_error\n",
    "from sklearn.model_selection import cross_val_score, GridSearchCV\n",
    "from sklearn.decomposition import PCA\n",
    "import lightgbm as lgb\n",
    "from lightgbm import LGBMRegressor\n",
    "from catboost import CatBoostRegressor"
   ]
  },
  {
   "cell_type": "code",
   "execution_count": 6,
   "metadata": {},
   "outputs": [
    {
     "data": {
      "text/plain": [
       "<matplotlib.axes._subplots.AxesSubplot at 0x7f8f33feb668>"
      ]
     },
     "execution_count": 6,
     "metadata": {},
     "output_type": "execute_result"
    },
    {
     "data": {
      "image/png": "[encoded data removed]",
      "text/plain": [
       "<Figure size 792x648 with 2 Axes>"
      ]
     },
     "metadata": {
      "needs_background": "light"
     },
     "output_type": "display_data"
    }
   ],
   "source": [
    "# Compute the correlation matrix\n",
    "corr = data.corr()\n",
    "\n",
    "# Generate a mask for the upper triangle\n",
    "mask = np.zeros_like(corr, dtype=np.bool)\n",
    "mask[np.triu_indices_from(mask)] = True\n",
    "\n",
    "# Set up the matplotlib figure\n",
    "f, ax = plt.subplots(figsize=(11, 9))\n",
    "\n",
    "# Generate a custom diverging colormap\n",
    "cmap = sns.diverging_palette(220, 10, as_cmap=True)\n",
    "\n",
    "# Draw the heatmap with the mask and correct aspect ratio\n",
    "sns.heatmap(corr, mask=mask, cmap=cmap, center=0,\n",
    "            square=True, linewidths=.5, cbar_kws={\"shrink\": .5}, annot=True)"
   ]
  },
  {
   "cell_type": "markdown",
   "metadata": {},
   "source": [
    "Данный сильно скореллированы, но не настолько, чтобы выкидывать что-то. В дальнейшем проверим PCA"
   ]
  },
  {
   "cell_type": "code",
   "execution_count": 7,
   "metadata": {},
   "outputs": [
    {
     "data": {
      "text/html": [
       "<div>\n",
       "<style scoped>\n",
       "    .dataframe tbody tr th:only-of-type {\n",
       "        vertical-align: middle;\n",
       "    }\n",
       "\n",
       "    .dataframe tbody tr th {\n",
       "        vertical-align: top;\n",
       "    }\n",
       "\n",
       "    .dataframe thead th {\n",
       "        text-align: right;\n",
       "    }\n",
       "</style>\n",
       "<table border=\"1\" class=\"dataframe\">\n",
       "  <thead>\n",
       "    <tr style=\"text-align: right;\">\n",
       "      <th></th>\n",
       "      <th>fixed acidity</th>\n",
       "      <th>volatile acidity</th>\n",
       "      <th>citric acid</th>\n",
       "      <th>residual sugar</th>\n",
       "      <th>chlorides</th>\n",
       "      <th>free sulfur dioxide</th>\n",
       "      <th>total sulfur dioxide</th>\n",
       "      <th>density</th>\n",
       "      <th>pH</th>\n",
       "      <th>sulphates</th>\n",
       "      <th>alcohol</th>\n",
       "    </tr>\n",
       "    <tr>\n",
       "      <th>quality</th>\n",
       "      <th></th>\n",
       "      <th></th>\n",
       "      <th></th>\n",
       "      <th></th>\n",
       "      <th></th>\n",
       "      <th></th>\n",
       "      <th></th>\n",
       "      <th></th>\n",
       "      <th></th>\n",
       "      <th></th>\n",
       "      <th></th>\n",
       "    </tr>\n",
       "  </thead>\n",
       "  <tbody>\n",
       "    <tr>\n",
       "      <th>3</th>\n",
       "      <td>7.425000</td>\n",
       "      <td>0.986250</td>\n",
       "      <td>0.022500</td>\n",
       "      <td>2.887500</td>\n",
       "      <td>0.080000</td>\n",
       "      <td>9.250000</td>\n",
       "      <td>21.500000</td>\n",
       "      <td>0.997143</td>\n",
       "      <td>3.492500</td>\n",
       "      <td>0.552500</td>\n",
       "      <td>10.337500</td>\n",
       "    </tr>\n",
       "    <tr>\n",
       "      <th>4</th>\n",
       "      <td>8.321053</td>\n",
       "      <td>0.692105</td>\n",
       "      <td>0.145263</td>\n",
       "      <td>2.373684</td>\n",
       "      <td>0.079842</td>\n",
       "      <td>16.473684</td>\n",
       "      <td>38.526316</td>\n",
       "      <td>0.996947</td>\n",
       "      <td>3.359474</td>\n",
       "      <td>0.621579</td>\n",
       "      <td>10.078947</td>\n",
       "    </tr>\n",
       "    <tr>\n",
       "      <th>5</th>\n",
       "      <td>8.279042</td>\n",
       "      <td>0.552275</td>\n",
       "      <td>0.260000</td>\n",
       "      <td>2.560479</td>\n",
       "      <td>0.099012</td>\n",
       "      <td>18.035928</td>\n",
       "      <td>56.766467</td>\n",
       "      <td>0.997248</td>\n",
       "      <td>3.288862</td>\n",
       "      <td>0.632096</td>\n",
       "      <td>9.799401</td>\n",
       "    </tr>\n",
       "    <tr>\n",
       "      <th>6</th>\n",
       "      <td>8.183544</td>\n",
       "      <td>0.502247</td>\n",
       "      <td>0.270633</td>\n",
       "      <td>2.394937</td>\n",
       "      <td>0.080620</td>\n",
       "      <td>15.756329</td>\n",
       "      <td>41.955696</td>\n",
       "      <td>0.996362</td>\n",
       "      <td>3.313481</td>\n",
       "      <td>0.640759</td>\n",
       "      <td>10.600211</td>\n",
       "    </tr>\n",
       "    <tr>\n",
       "      <th>7</th>\n",
       "      <td>8.902174</td>\n",
       "      <td>0.415326</td>\n",
       "      <td>0.387391</td>\n",
       "      <td>2.898913</td>\n",
       "      <td>0.076478</td>\n",
       "      <td>12.467391</td>\n",
       "      <td>36.760870</td>\n",
       "      <td>0.996064</td>\n",
       "      <td>3.285870</td>\n",
       "      <td>0.729130</td>\n",
       "      <td>11.677536</td>\n",
       "    </tr>\n",
       "    <tr>\n",
       "      <th>8</th>\n",
       "      <td>8.200000</td>\n",
       "      <td>0.410000</td>\n",
       "      <td>0.321667</td>\n",
       "      <td>2.166667</td>\n",
       "      <td>0.064667</td>\n",
       "      <td>13.666667</td>\n",
       "      <td>31.666667</td>\n",
       "      <td>0.994955</td>\n",
       "      <td>3.306667</td>\n",
       "      <td>0.820000</td>\n",
       "      <td>11.850000</td>\n",
       "    </tr>\n",
       "  </tbody>\n",
       "</table>\n",
       "</div>"
      ],
      "text/plain": [
       "         fixed acidity  volatile acidity  citric acid  residual sugar  \\\n",
       "quality                                                                 \n",
       "3             7.425000          0.986250     0.022500        2.887500   \n",
       "4             8.321053          0.692105     0.145263        2.373684   \n",
       "5             8.279042          0.552275     0.260000        2.560479   \n",
       "6             8.183544          0.502247     0.270633        2.394937   \n",
       "7             8.902174          0.415326     0.387391        2.898913   \n",
       "8             8.200000          0.410000     0.321667        2.166667   \n",
       "\n",
       "         chlorides  free sulfur dioxide  total sulfur dioxide   density  \\\n",
       "quality                                                                   \n",
       "3         0.080000             9.250000             21.500000  0.997143   \n",
       "4         0.079842            16.473684             38.526316  0.996947   \n",
       "5         0.099012            18.035928             56.766467  0.997248   \n",
       "6         0.080620            15.756329             41.955696  0.996362   \n",
       "7         0.076478            12.467391             36.760870  0.996064   \n",
       "8         0.064667            13.666667             31.666667  0.994955   \n",
       "\n",
       "               pH  sulphates    alcohol  \n",
       "quality                                  \n",
       "3        3.492500   0.552500  10.337500  \n",
       "4        3.359474   0.621579  10.078947  \n",
       "5        3.288862   0.632096   9.799401  \n",
       "6        3.313481   0.640759  10.600211  \n",
       "7        3.285870   0.729130  11.677536  \n",
       "8        3.306667   0.820000  11.850000  "
      ]
     },
     "execution_count": 7,
     "metadata": {},
     "output_type": "execute_result"
    }
   ],
   "source": [
    "data.groupby('quality').mean()"
   ]
  },
  {
   "cell_type": "code",
   "execution_count": 8,
   "metadata": {},
   "outputs": [
    {
     "data": {
      "text/html": [
       "<div>\n",
       "<style scoped>\n",
       "    .dataframe tbody tr th:only-of-type {\n",
       "        vertical-align: middle;\n",
       "    }\n",
       "\n",
       "    .dataframe tbody tr th {\n",
       "        vertical-align: top;\n",
       "    }\n",
       "\n",
       "    .dataframe thead th {\n",
       "        text-align: right;\n",
       "    }\n",
       "</style>\n",
       "<table border=\"1\" class=\"dataframe\">\n",
       "  <thead>\n",
       "    <tr style=\"text-align: right;\">\n",
       "      <th></th>\n",
       "      <th>fixed acidity</th>\n",
       "      <th>volatile acidity</th>\n",
       "      <th>citric acid</th>\n",
       "      <th>residual sugar</th>\n",
       "      <th>chlorides</th>\n",
       "      <th>free sulfur dioxide</th>\n",
       "      <th>total sulfur dioxide</th>\n",
       "      <th>density</th>\n",
       "      <th>pH</th>\n",
       "      <th>sulphates</th>\n",
       "      <th>alcohol</th>\n",
       "    </tr>\n",
       "    <tr>\n",
       "      <th>quality</th>\n",
       "      <th></th>\n",
       "      <th></th>\n",
       "      <th></th>\n",
       "      <th></th>\n",
       "      <th></th>\n",
       "      <th></th>\n",
       "      <th></th>\n",
       "      <th></th>\n",
       "      <th></th>\n",
       "      <th></th>\n",
       "      <th></th>\n",
       "    </tr>\n",
       "  </thead>\n",
       "  <tbody>\n",
       "    <tr>\n",
       "      <th>3</th>\n",
       "      <td>0.660177</td>\n",
       "      <td>0.174994</td>\n",
       "      <td>0.020616</td>\n",
       "      <td>1.143369</td>\n",
       "      <td>0.014944</td>\n",
       "      <td>7.182154</td>\n",
       "      <td>18.375709</td>\n",
       "      <td>0.001261</td>\n",
       "      <td>0.136229</td>\n",
       "      <td>0.057951</td>\n",
       "      <td>0.612883</td>\n",
       "    </tr>\n",
       "    <tr>\n",
       "      <th>4</th>\n",
       "      <td>1.753276</td>\n",
       "      <td>0.208589</td>\n",
       "      <td>0.167477</td>\n",
       "      <td>0.910947</td>\n",
       "      <td>0.021230</td>\n",
       "      <td>11.558395</td>\n",
       "      <td>30.216567</td>\n",
       "      <td>0.001421</td>\n",
       "      <td>0.155044</td>\n",
       "      <td>0.195938</td>\n",
       "      <td>0.661294</td>\n",
       "    </tr>\n",
       "    <tr>\n",
       "      <th>5</th>\n",
       "      <td>1.542406</td>\n",
       "      <td>0.151985</td>\n",
       "      <td>0.184932</td>\n",
       "      <td>1.505840</td>\n",
       "      <td>0.065567</td>\n",
       "      <td>12.252805</td>\n",
       "      <td>36.949159</td>\n",
       "      <td>0.001532</td>\n",
       "      <td>0.137938</td>\n",
       "      <td>0.177108</td>\n",
       "      <td>0.584797</td>\n",
       "    </tr>\n",
       "    <tr>\n",
       "      <th>6</th>\n",
       "      <td>1.764796</td>\n",
       "      <td>0.178416</td>\n",
       "      <td>0.184687</td>\n",
       "      <td>1.145904</td>\n",
       "      <td>0.023551</td>\n",
       "      <td>9.604063</td>\n",
       "      <td>29.069945</td>\n",
       "      <td>0.001952</td>\n",
       "      <td>0.153701</td>\n",
       "      <td>0.126025</td>\n",
       "      <td>0.963276</td>\n",
       "    </tr>\n",
       "    <tr>\n",
       "      <th>7</th>\n",
       "      <td>2.208317</td>\n",
       "      <td>0.164149</td>\n",
       "      <td>0.209140</td>\n",
       "      <td>1.456918</td>\n",
       "      <td>0.021752</td>\n",
       "      <td>8.628378</td>\n",
       "      <td>42.946574</td>\n",
       "      <td>0.002411</td>\n",
       "      <td>0.148841</td>\n",
       "      <td>0.127276</td>\n",
       "      <td>1.033132</td>\n",
       "    </tr>\n",
       "    <tr>\n",
       "      <th>8</th>\n",
       "      <td>1.805547</td>\n",
       "      <td>0.104115</td>\n",
       "      <td>0.220764</td>\n",
       "      <td>0.467618</td>\n",
       "      <td>0.011961</td>\n",
       "      <td>13.603921</td>\n",
       "      <td>29.783664</td>\n",
       "      <td>0.002287</td>\n",
       "      <td>0.153449</td>\n",
       "      <td>0.167690</td>\n",
       "      <td>1.380942</td>\n",
       "    </tr>\n",
       "  </tbody>\n",
       "</table>\n",
       "</div>"
      ],
      "text/plain": [
       "         fixed acidity  volatile acidity  citric acid  residual sugar  \\\n",
       "quality                                                                 \n",
       "3             0.660177          0.174994     0.020616        1.143369   \n",
       "4             1.753276          0.208589     0.167477        0.910947   \n",
       "5             1.542406          0.151985     0.184932        1.505840   \n",
       "6             1.764796          0.178416     0.184687        1.145904   \n",
       "7             2.208317          0.164149     0.209140        1.456918   \n",
       "8             1.805547          0.104115     0.220764        0.467618   \n",
       "\n",
       "         chlorides  free sulfur dioxide  total sulfur dioxide   density  \\\n",
       "quality                                                                   \n",
       "3         0.014944             7.182154             18.375709  0.001261   \n",
       "4         0.021230            11.558395             30.216567  0.001421   \n",
       "5         0.065567            12.252805             36.949159  0.001532   \n",
       "6         0.023551             9.604063             29.069945  0.001952   \n",
       "7         0.021752             8.628378             42.946574  0.002411   \n",
       "8         0.011961            13.603921             29.783664  0.002287   \n",
       "\n",
       "               pH  sulphates   alcohol  \n",
       "quality                                 \n",
       "3        0.136229   0.057951  0.612883  \n",
       "4        0.155044   0.195938  0.661294  \n",
       "5        0.137938   0.177108  0.584797  \n",
       "6        0.153701   0.126025  0.963276  \n",
       "7        0.148841   0.127276  1.033132  \n",
       "8        0.153449   0.167690  1.380942  "
      ]
     },
     "execution_count": 8,
     "metadata": {},
     "output_type": "execute_result"
    }
   ],
   "source": [
    "data.groupby('quality').std()"
   ]
  },
  {
   "cell_type": "markdown",
   "metadata": {},
   "source": [
    "Опять выкинем плотность. Видно, что citric acid, pH, что очевидно после кислоты, количество сульфатов как-то прямо влияют на качество"
   ]
  },
  {
   "cell_type": "code",
   "execution_count": 9,
   "metadata": {},
   "outputs": [],
   "source": [
    "data.drop('density',axis=1,  inplace=True)"
   ]
  },
  {
   "cell_type": "code",
   "execution_count": 10,
   "metadata": {},
   "outputs": [
    {
     "data": {
      "text/plain": [
       "Text(0.5, 1.0, 'distribution of wine quality')"
      ]
     },
     "execution_count": 10,
     "metadata": {},
     "output_type": "execute_result"
    },
    {
     "data": {
      "image/png": "[encoded data removed]",
      "text/plain": [
       "<Figure size 432x288 with 1 Axes>"
      ]
     },
     "metadata": {
      "needs_background": "light"
     },
     "output_type": "display_data"
    }
   ],
   "source": [
    "data.quality.value_counts().sort_index().plot.bar()\n",
    "plt.title('distribution of wine quality')"
   ]
  },
  {
   "cell_type": "markdown",
   "metadata": {},
   "source": [
    "Распределение количеств вин по качеству сдвинуто от равномерного состояния в нормальное"
   ]
  },
  {
   "cell_type": "code",
   "execution_count": 11,
   "metadata": {},
   "outputs": [],
   "source": [
    "X, y = data.drop('quality', axis=1), data.quality"
   ]
  },
  {
   "cell_type": "markdown",
   "metadata": {},
   "source": [
    "Голые регрессоры без подкручивания:"
   ]
  },
  {
   "cell_type": "code",
   "execution_count": 12,
   "metadata": {},
   "outputs": [],
   "source": [
    "def simple_regsrs(X, y, scale=True, pca=False):\n",
    "    if pca:\n",
    "        X = PCA().fit_transform(X)\n",
    "    scale = False\n",
    "    if scale:\n",
    "        X = StandardScaler().fit_transform(X)\n",
    "    X_train, X_test, y_train, y_test = train_test_split(X, y, test_size=0.4, random_state=42)\n",
    "    regressors = [KNeighborsRegressor(3), \n",
    "                  LinearRegression(), \n",
    "                  ExtraTreesRegressor(100, criterion='mae',), \n",
    "                  LGBMRegressor(n_estimators=50), \n",
    "                  CatBoostRegressor(2000, \n",
    "                        loss_function='MAE', \n",
    "                        logging_level='Silent', \n",
    "                        random_state=32, \n",
    "                        early_stopping_rounds=300,), ]\n",
    "    reg_name = 'KNeighborsRegressor LinearRegression ExtraTreesRegressor LGBMRegressor CatBoostRegressor'.split()\n",
    "    predictions = []\n",
    "    for R,n in zip(regressors, reg_name):\n",
    "        R.fit(X_train, y_train)\n",
    "        print(n)\n",
    "        y_pred = R.predict(X_test)\n",
    "        predictions.append(y_pred)\n",
    "        print(mean_absolute_error(y_test, y_pred))\n",
    "        print('-'*20)\n",
    "    return np.array(predictions), y_test"
   ]
  },
  {
   "cell_type": "code",
   "execution_count": 13,
   "metadata": {},
   "outputs": [
    {
     "name": "stdout",
     "output_type": "stream",
     "text": [
      "KNeighborsRegressor\n",
      "0.6624999999999999\n",
      "--------------------\n",
      "LinearRegression\n",
      "0.5063038766553899\n",
      "--------------------\n",
      "ExtraTreesRegressor\n",
      "0.402375\n",
      "--------------------\n",
      "LGBMRegressor\n",
      "0.4713289238088968\n",
      "--------------------\n",
      "CatBoostRegressor\n",
      "0.44906917693383586\n",
      "--------------------\n"
     ]
    }
   ],
   "source": [
    "prds, y_test = simple_regsrs(X,y)"
   ]
  },
  {
   "cell_type": "markdown",
   "metadata": {},
   "source": [
    "Все работают +- неплохо. Попробуем их объединить"
   ]
  },
  {
   "cell_type": "code",
   "execution_count": 38,
   "metadata": {},
   "outputs": [
    {
     "data": {
      "text/plain": [
       "0.44759178376558406"
      ]
     },
     "execution_count": 38,
     "metadata": {},
     "output_type": "execute_result"
    }
   ],
   "source": [
    "mean_absolute_error(y_test, np.sum(prds, axis=0) / 5)"
   ]
  },
  {
   "cell_type": "markdown",
   "metadata": {},
   "source": [
    "Возьмем древесные формы"
   ]
  },
  {
   "cell_type": "code",
   "execution_count": 39,
   "metadata": {},
   "outputs": [
    {
     "data": {
      "text/plain": [
       "0.42243034406526603"
      ]
     },
     "execution_count": 39,
     "metadata": {},
     "output_type": "execute_result"
    }
   ],
   "source": [
    "mean_absolute_error(y_test, np.sum(prds[2:], axis=0) / 3)"
   ]
  },
  {
   "cell_type": "markdown",
   "metadata": {},
   "source": [
    "Проанализируем эффективность принципиальных компонент"
   ]
  },
  {
   "cell_type": "code",
   "execution_count": 40,
   "metadata": {},
   "outputs": [
    {
     "name": "stdout",
     "output_type": "stream",
     "text": [
      "KNeighborsRegressor\n",
      "0.6624999999999999\n",
      "--------------------\n",
      "LinearRegression\n",
      "0.506303876655393\n",
      "--------------------\n",
      "ExtraTreesRegressor\n",
      "0.4069375\n",
      "--------------------\n",
      "LGBMRegressor\n",
      "0.4940754427212992\n",
      "--------------------\n",
      "CatBoostRegressor\n",
      "0.4471337533471056\n",
      "--------------------\n"
     ]
    }
   ],
   "source": [
    "pca_prds, y_test = simple_regsrs(X, y, pca=True)"
   ]
  },
  {
   "cell_type": "markdown",
   "metadata": {},
   "source": [
    "PCA не нужен"
   ]
  },
  {
   "cell_type": "markdown",
   "metadata": {},
   "source": [
    "А теперь попробуем улучшить ExtraTreesRegressor, который дает лучший скор"
   ]
  },
  {
   "cell_type": "code",
   "execution_count": 41,
   "metadata": {},
   "outputs": [],
   "source": [
    "regsr = ExtraTreesRegressor(criterion='mae', n_jobs=4)\n",
    "\n",
    "min_samples_leaf = [1, 2, 3]\n",
    "max_features = [0.3, 0.5, 0.7]\n",
    "max_depth = [None, 20, 40 ,100]\n",
    "n_estimators = [50, 100, 200]\n",
    "\n",
    "params = {'min_samples_leaf' : min_samples_leaf, \n",
    "          'max_features' : max_features, \n",
    "          'max_depth' : max_depth, \n",
    "          'n_estimators': n_estimators}\n",
    "\n",
    "grid_forest = GridSearchCV(regsr, params, scoring='neg_mean_absolute_error', n_jobs=4, cv=5, verbose=1,)"
   ]
  },
  {
   "cell_type": "code",
   "execution_count": 22,
   "metadata": {},
   "outputs": [
    {
     "name": "stdout",
     "output_type": "stream",
     "text": [
      "Fitting 5 folds for each of 108 candidates, totalling 540 fits\n"
     ]
    },
    {
     "name": "stderr",
     "output_type": "stream",
     "text": [
      "[Parallel(n_jobs=4)]: Using backend LokyBackend with 4 concurrent workers.\n",
      "[Parallel(n_jobs=4)]: Done  42 tasks      | elapsed:    9.6s\n",
      "[Parallel(n_jobs=4)]: Done 192 tasks      | elapsed:   43.0s\n",
      "[Parallel(n_jobs=4)]: Done 442 tasks      | elapsed:  1.7min\n",
      "[Parallel(n_jobs=4)]: Done 540 out of 540 | elapsed:  2.1min finished\n"
     ]
    },
    {
     "data": {
      "text/plain": [
       "GridSearchCV(cv=5, error_score='raise-deprecating',\n",
       "       estimator=ExtraTreesRegressor(bootstrap=False, criterion='mae', max_depth=None,\n",
       "          max_features='auto', max_leaf_nodes=None,\n",
       "          min_impurity_decrease=0.0, min_impurity_split=None,\n",
       "          min_samples_leaf=1, min_samples_split=2,\n",
       "          min_weight_fraction_leaf=0.0, n_estimators='warn', n_jobs=4,\n",
       "          oob_score=False, random_state=None, verbose=0, warm_start=False),\n",
       "       fit_params=None, iid='warn', n_jobs=4,\n",
       "       param_grid={'min_samples_leaf': [1, 2, 3], 'max_features': [0.3, 0.5, 0.7], 'max_depth': [None, 20, 40, 100], 'n_estimators': [50, 100, 200]},\n",
       "       pre_dispatch='2*n_jobs', refit=True, return_train_score='warn',\n",
       "       scoring='neg_mean_absolute_error', verbose=1)"
      ]
     },
     "execution_count": 22,
     "metadata": {},
     "output_type": "execute_result"
    }
   ],
   "source": [
    "grid_forest.fit(X, y)"
   ]
  },
  {
   "cell_type": "code",
   "execution_count": 23,
   "metadata": {},
   "outputs": [
    {
     "data": {
      "text/plain": [
       "(0.43,\n",
       " {'max_depth': None,\n",
       "  'max_features': 0.3,\n",
       "  'min_samples_leaf': 1,\n",
       "  'n_estimators': 50})"
      ]
     },
     "execution_count": 23,
     "metadata": {},
     "output_type": "execute_result"
    }
   ],
   "source": [
    "-grid_forest.best_score_, grid_forest.best_params_"
   ]
  },
  {
   "cell_type": "markdown",
   "metadata": {},
   "source": [
    "Скор не поднялся, но утвердился. На новых данных, не сильно отличных от имеющихся, скор будет примерно такой же - _**0.43**_. Т.е. качество будет предсказываться с такой ошибкой"
   ]
  }
 ],
 "metadata": {
  "kernelspec": {
   "display_name": "Python 3",
   "language": "python",
   "name": "python3"
  },
  "language_info": {
   "codemirror_mode": {
    "name": "ipython",
    "version": 3
   },
   "file_extension": ".py",
   "mimetype": "text/x-python",
   "name": "python",
   "nbconvert_exporter": "python",
   "pygments_lexer": "ipython3",
   "version": "3.6.8"
  }
 },
 "nbformat": 4,
 "nbformat_minor": 1
}
