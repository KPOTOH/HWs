{
 "cells": [
  {
   "cell_type": "markdown",
   "metadata": {},
   "source": [
    "# HMM\n",
    "\n",
    "<img src='hmm.png' width=100/>\n",
    "\n",
    "## Скрытые Марковские модели"
   ]
  },
  {
   "cell_type": "markdown",
   "metadata": {},
   "source": [
    "## Первая часть"
   ]
  },
  {
   "cell_type": "code",
   "execution_count": 1,
   "metadata": {},
   "outputs": [],
   "source": [
    "import numpy as np\n",
    "import pandas as pd\n",
    "from sklearn.preprocessing import LabelEncoder\n",
    "from Bio import SeqIO\n",
    "import matplotlib.pyplot as plt\n",
    "import warnings\n",
    "warnings.filterwarnings('ignore')\n",
    "%matplotlib inline"
   ]
  },
  {
   "cell_type": "markdown",
   "metadata": {},
   "source": [
    "Так получается, что в python не очень-то реализованы алгоритмы для скрытых марковских моделей - те пакеты, которые есть, не очень-то работают(это судьба большей части пакетов на python). В случае HMM это происходит из-за того, что есть numpy, с помощью которого средний программист может быстро сделать себе марковскую цепь и pymc3 - чудовищный по своим возможностям пакет байесовского статистического моделирования."
   ]
  },
  {
   "cell_type": "markdown",
   "metadata": {},
   "source": [
    "Попробуем построить свою скрытую марковскую модель на реальных данных.  \n",
    "Возьмем геном бактерии Helicobacter pylori(Это такая тварь, которая имеет тенденцию поселяться в желудке человека и давать много побочных эффектов. Её наличие служит хорошим индикатором серьезных проблем с пищеварительной системой)."
   ]
  },
  {
   "cell_type": "markdown",
   "metadata": {},
   "source": [
    "Модель построим такую:\n",
    "\n",
    "Будем размечать гены и незначимые ORF двумя состояниями.\n",
    "Нам понадобится матрица переходов между состояниями и для каждого состояния распределение встречаемости нуклеотидов."
   ]
  },
  {
   "cell_type": "markdown",
   "metadata": {},
   "source": [
    "Упражнение будем совершать на основе Helicobacter Pilori.  \n",
    "Для получения исходных данных для разметки сделаем следующее:\n",
    "1. Скачаем геном\n",
    "2. Воспользуемся EasyGene для того, чтобы получить GFF-файл с разметкой генома."
   ]
  },
  {
   "cell_type": "markdown",
   "metadata": {},
   "source": [
    "Берём для ориентира сборку AE000511.1(https://www.ncbi.nlm.nih.gov/nuccore/AE000511.1?report=fasta) в формате FASTA."
   ]
  },
  {
   "cell_type": "code",
   "execution_count": 2,
   "metadata": {},
   "outputs": [
    {
     "name": "stdout",
     "output_type": "stream",
     "text": [
      ">AE000511.1 Helicobacter pylori 26695, complete genome\r\n"
     ]
    }
   ],
   "source": [
    "!head ./GCA_000008525.1_ASM852v1_genomic.fna -n 1"
   ]
  },
  {
   "cell_type": "markdown",
   "metadata": {},
   "source": [
    "В GFF-файле(описание GFF http://www.cbs.dtu.dk/services/EasyGene/output.php) каждая строка - это описание гена. \n",
    "И в столбцах start и end - начало и конец значимых участков генома."
   ]
  },
  {
   "cell_type": "markdown",
   "metadata": {},
   "source": [
    "Для того, чтобы подсчитать распределение вероятности эмиссии в разных состояниях, нам нужно подсчитать встречаемость тринуклеотидов в каждом состоянии. Для этого надо выбрать последовательности из gff файла и подсчитать встречаемость в них и потом сделать то же самое для остальных частей генома."
   ]
  },
  {
   "cell_type": "markdown",
   "metadata": {},
   "source": [
    "Сохраним их в переменную E - numpy массив."
   ]
  },
  {
   "cell_type": "code",
   "execution_count": 3,
   "metadata": {},
   "outputs": [],
   "source": [
    "fasta_file = 'GCA_000008525.1_ASM852v1_genomic.fna'\n",
    "gff_file = 'genes.gff'\n",
    "data = pd.read_csv(gff_file, delimiter='\\t', sep='/t', skiprows=5) # пропуск метаинформации из EasyGene"
   ]
  },
  {
   "cell_type": "code",
   "execution_count": 4,
   "metadata": {},
   "outputs": [],
   "source": [
    "data.sort_values('start', inplace=True)"
   ]
  },
  {
   "cell_type": "code",
   "execution_count": 5,
   "metadata": {},
   "outputs": [],
   "source": [
    "# загруз сиквенса\n",
    "fasta = SeqIO.parse(fasta_file, \"fasta\")\n",
    "\n",
    "for rec in fasta:\n",
    "    seq = str(rec.seq).upper()"
   ]
  },
  {
   "cell_type": "markdown",
   "metadata": {},
   "source": [
    "**gff в индексации слайсов включает конец, индексация с 1, значит отнимем от колонки start 1**"
   ]
  },
  {
   "cell_type": "markdown",
   "metadata": {},
   "source": [
    "минус-направление это на другой цепи днк, значит, чтобы получить сиквенс гена, надо повернуть и откомплиментарить,\n",
    "но он нам не нужен"
   ]
  },
  {
   "cell_type": "code",
   "execution_count": 6,
   "metadata": {},
   "outputs": [
    {
     "data": {
      "text/html": [
       "<div>\n",
       "<style scoped>\n",
       "    .dataframe tbody tr th:only-of-type {\n",
       "        vertical-align: middle;\n",
       "    }\n",
       "\n",
       "    .dataframe tbody tr th {\n",
       "        vertical-align: top;\n",
       "    }\n",
       "\n",
       "    .dataframe thead th {\n",
       "        text-align: right;\n",
       "    }\n",
       "</style>\n",
       "<table border=\"1\" class=\"dataframe\">\n",
       "  <thead>\n",
       "    <tr style=\"text-align: right;\">\n",
       "      <th></th>\n",
       "      <th>start</th>\n",
       "      <th>end</th>\n",
       "    </tr>\n",
       "  </thead>\n",
       "  <tbody>\n",
       "    <tr>\n",
       "      <th>733</th>\n",
       "      <td>216</td>\n",
       "      <td>633</td>\n",
       "    </tr>\n",
       "    <tr>\n",
       "      <th>734</th>\n",
       "      <td>634</td>\n",
       "      <td>1105</td>\n",
       "    </tr>\n",
       "    <tr>\n",
       "      <th>735</th>\n",
       "      <td>1114</td>\n",
       "      <td>1945</td>\n",
       "    </tr>\n",
       "    <tr>\n",
       "      <th>736</th>\n",
       "      <td>1931</td>\n",
       "      <td>2597</td>\n",
       "    </tr>\n",
       "    <tr>\n",
       "      <th>0</th>\n",
       "      <td>2718</td>\n",
       "      <td>3402</td>\n",
       "    </tr>\n",
       "  </tbody>\n",
       "</table>\n",
       "</div>"
      ],
      "text/plain": [
       "     start   end\n",
       "733    216   633\n",
       "734    634  1105\n",
       "735   1114  1945\n",
       "736   1931  2597\n",
       "0     2718  3402"
      ]
     },
     "execution_count": 6,
     "metadata": {},
     "output_type": "execute_result"
    }
   ],
   "source": [
    "genes = data[['start', 'end']]\n",
    "genes['start'] -= 1\n",
    "genes.head()"
   ]
  },
  {
   "cell_type": "code",
   "execution_count": 7,
   "metadata": {},
   "outputs": [
    {
     "data": {
      "text/plain": [
       "'1532 - the number of genes'"
      ]
     },
     "execution_count": 7,
     "metadata": {},
     "output_type": "execute_result"
    }
   ],
   "source": [
    "f'{genes.shape[0]} - the number of genes'"
   ]
  },
  {
   "cell_type": "code",
   "execution_count": 8,
   "metadata": {},
   "outputs": [
    {
     "data": {
      "text/plain": [
       "True     1191\n",
       "False     340\n",
       "dtype: int64"
      ]
     },
     "execution_count": 8,
     "metadata": {},
     "output_type": "execute_result"
    }
   ],
   "source": [
    "pd.Series(genes.start.values[1:] > genes.end.values[:-1]).value_counts()"
   ]
  },
  {
   "cell_type": "markdown",
   "metadata": {},
   "source": [
    "**340 перекрытий генов**"
   ]
  },
  {
   "cell_type": "code",
   "execution_count": 10,
   "metadata": {},
   "outputs": [
    {
     "name": "stdout",
     "output_type": "stream",
     "text": [
      "~89.78% всех нуклеотидов под генами\n",
      "3621 нуклеотидов, которые более чем в одном гене\n"
     ]
    }
   ],
   "source": [
    "Gene_space = [] # это список индексов всех букв, которые в генах\n",
    "for s in genes.values:\n",
    "    Gene_space += list(range(s[0],s[1]))\n",
    "AllGeneSpaseId = len(Gene_space)\n",
    "Gene_space = set(Gene_space) # каких-то индексов несколько из-за перекрытия\n",
    "Non_gene_space = sorted(set(np.arange(len(seq))) - Gene_space) # остальные индексы это не гены\n",
    "Gene_space = sorted(Gene_space)\n",
    "\n",
    "if len(Non_gene_space) + len(Gene_space) == len(seq):\n",
    "    print(f'~{round(len(Gene_space) / len(seq) * 100, 2)}% всех нуклеотидов под генами')\n",
    "    print(f'{AllGeneSpaseId - len(Gene_space)} нуклеотидов, которые более чем в одном гене')"
   ]
  },
  {
   "cell_type": "code",
   "execution_count": 10,
   "metadata": {},
   "outputs": [
    {
     "data": {
      "text/plain": [
       "True"
      ]
     },
     "execution_count": 10,
     "metadata": {},
     "output_type": "execute_result"
    }
   ],
   "source": [
    "# Создадим последовательность состояний в виде Series\n",
    "state_seq = pd.concat([pd.Series([True]*len(Gene_space), index=Gene_space), \n",
    "                       pd.Series([False]*len(Non_gene_space), index=Non_gene_space)]).sort_index()\n",
    "# И в виде массива\n",
    "is_gene = state_seq.values\n",
    "len(is_gene) == len(seq)"
   ]
  },
  {
   "cell_type": "code",
   "execution_count": 11,
   "metadata": {},
   "outputs": [
    {
     "data": {
      "text/plain": [
       "array([ True,  True,  True, False,  True,  True,  True,  True,  True,\n",
       "        True,  True,  True,  True,  True,  True,  True,  True,  True,\n",
       "        True,  True,  True,  True,  True,  True,  True,  True,  True,\n",
       "        True,  True,  True])"
      ]
     },
     "execution_count": 11,
     "metadata": {},
     "output_type": "execute_result"
    }
   ],
   "source": [
    "is_gene[630:660]"
   ]
  },
  {
   "cell_type": "code",
   "execution_count": 12,
   "metadata": {},
   "outputs": [
    {
     "name": "stdout",
     "output_type": "stream",
     "text": [
      "CPU times: user 8.47 s, sys: 4.13 ms, total: 8.47 s\n",
      "Wall time: 8.47 s\n"
     ]
    }
   ],
   "source": [
    "%%time\n",
    "# Сделаем табличку с интервалами для не генов. Она такая же как genes\n",
    "ng = []\n",
    "st = 0\n",
    "prev_state = is_gene[0]\n",
    "for i in range(1, len(seq)):\n",
    "    cur_state = is_gene[i]\n",
    "    if prev_state != cur_state and cur_state == True:\n",
    "        end = i\n",
    "        ng.append([st, end])\n",
    "    if prev_state != cur_state and cur_state == False:\n",
    "        st = i\n",
    "    prev_state = cur_state\n",
    "ng.append([st,len(seq)])"
   ]
  },
  {
   "cell_type": "code",
   "execution_count": 13,
   "metadata": {},
   "outputs": [
    {
     "data": {
      "text/html": [
       "<div>\n",
       "<style scoped>\n",
       "    .dataframe tbody tr th:only-of-type {\n",
       "        vertical-align: middle;\n",
       "    }\n",
       "\n",
       "    .dataframe tbody tr th {\n",
       "        vertical-align: top;\n",
       "    }\n",
       "\n",
       "    .dataframe thead th {\n",
       "        text-align: right;\n",
       "    }\n",
       "</style>\n",
       "<table border=\"1\" class=\"dataframe\">\n",
       "  <thead>\n",
       "    <tr style=\"text-align: right;\">\n",
       "      <th></th>\n",
       "      <th>start</th>\n",
       "      <th>end</th>\n",
       "    </tr>\n",
       "  </thead>\n",
       "  <tbody>\n",
       "    <tr>\n",
       "      <th>0</th>\n",
       "      <td>0</td>\n",
       "      <td>216</td>\n",
       "    </tr>\n",
       "    <tr>\n",
       "      <th>1</th>\n",
       "      <td>633</td>\n",
       "      <td>634</td>\n",
       "    </tr>\n",
       "    <tr>\n",
       "      <th>2</th>\n",
       "      <td>1105</td>\n",
       "      <td>1114</td>\n",
       "    </tr>\n",
       "  </tbody>\n",
       "</table>\n",
       "</div>"
      ],
      "text/plain": [
       "   start   end\n",
       "0      0   216\n",
       "1    633   634\n",
       "2   1105  1114"
      ]
     },
     "execution_count": 13,
     "metadata": {},
     "output_type": "execute_result"
    }
   ],
   "source": [
    "non_genes = pd.DataFrame(ng, columns=['start', 'end'])\n",
    "non_genes.head(3)"
   ]
  },
  {
   "cell_type": "code",
   "execution_count": 14,
   "metadata": {},
   "outputs": [
    {
     "data": {
      "image/png": "[encoded data removed]",
      "text/plain": [
       "<Figure size 864x216 with 1 Axes>"
      ]
     },
     "metadata": {
      "needs_background": "light"
     },
     "output_type": "display_data"
    }
   ],
   "source": [
    "# Распределение длин не генов\n",
    "plt.figure(figsize=(12, 3))\n",
    "_ = plt.hist(non_genes.end - non_genes.start, bins=100)\n",
    "plt.title('Distribution of non_genes lenght', fontsize=14)\n",
    "_ = plt.xticks(np.arange(0, 5001, 500))"
   ]
  },
  {
   "cell_type": "markdown",
   "metadata": {},
   "source": [
    "Около нуля очень много. Удалим те не гены, длина которых не больше 10, чтоб не загрязнять данные о не генах: на 10 буквах частоты совсем рандомные"
   ]
  },
  {
   "cell_type": "code",
   "execution_count": 15,
   "metadata": {},
   "outputs": [],
   "source": [
    "non_genes['seq_len'] = non_genes.end - non_genes.start"
   ]
  },
  {
   "cell_type": "code",
   "execution_count": 16,
   "metadata": {},
   "outputs": [
    {
     "data": {
      "text/plain": [
       "1193"
      ]
     },
     "execution_count": 16,
     "metadata": {},
     "output_type": "execute_result"
    }
   ],
   "source": [
    "len(non_genes)"
   ]
  },
  {
   "cell_type": "code",
   "execution_count": 17,
   "metadata": {},
   "outputs": [
    {
     "data": {
      "text/plain": [
       "939"
      ]
     },
     "execution_count": 17,
     "metadata": {},
     "output_type": "execute_result"
    }
   ],
   "source": [
    "non_genes = non_genes[non_genes.seq_len > 10]\n",
    "len(non_genes)"
   ]
  },
  {
   "cell_type": "markdown",
   "metadata": {},
   "source": [
    "Несколько функций для счета частот k-меров"
   ]
  },
  {
   "cell_type": "code",
   "execution_count": 18,
   "metadata": {},
   "outputs": [],
   "source": [
    "def make_kmers_list(k, temp_d=['A','T','G','C']):\n",
    "    '''recursively creates list of all dna k-mers'''\n",
    "    if k == 1:\n",
    "        return temp_d\n",
    "\n",
    "    new_temp = []\n",
    "    for x in temp_d:\n",
    "        for w in ['A','T','G','C']:\n",
    "            new_temp.append(x + w)\n",
    "    temp_d = make_kmers_list(k-1, new_temp)\n",
    "    return temp_d\n",
    "\n",
    "def kmer_dict(seq, k=3):\n",
    "    '''creates dict where keys are kmers and values are frequences of these kmers in the seq;\n",
    "       pass not determined nucleotides'''\n",
    "    keys = make_kmers_list(k)\n",
    "    seq = seq.upper()\n",
    "    len0 = len(seq)\n",
    "    freq_dict = dict(zip(keys,np.zeros(len(keys))))\n",
    "    onee = 1 / len0\n",
    "    \n",
    "    for i in range(len0 - 3):\n",
    "        tripl = seq[i:i+k]\n",
    "        cond = True\n",
    "        for N in set(tripl):\n",
    "            if N not in 'ATGC':\n",
    "                cond = False\n",
    "        if cond:\n",
    "            freq_dict[tripl] += onee\n",
    "    return freq_dict\n",
    "\n",
    "def count_proba(start_ends, seq, k=3):\n",
    "    '''counts probabilities of each k-mer occurence\n",
    "    Выплевывает:\n",
    "    1. словать с частотами (в следующей функции будет это использоваться)\n",
    "    2. матрицу частот\n",
    "    3. список всех k-меров, чтобы матрица имела смысл\n",
    "    '''\n",
    "    big_seq = ''\n",
    "    for x in start_ends.values:\n",
    "        local_seq = seq[x[0]: x[1]]\n",
    "        big_seq += local_seq # make one big seq\n",
    "\n",
    "    freqs = kmer_dict(big_seq, k)\n",
    "    return freqs, list(freqs.values()), list(freqs.keys())"
   ]
  },
  {
   "cell_type": "code",
   "execution_count": 19,
   "metadata": {},
   "outputs": [],
   "source": [
    "E_genes_dict, E_genes, alphabet_set = count_proba(genes, seq)\n",
    "E_nongenes_dict, E_nongenes, _ = count_proba(non_genes, seq)"
   ]
  },
  {
   "cell_type": "code",
   "execution_count": 20,
   "metadata": {},
   "outputs": [],
   "source": [
    "# Emission dict and matrix\n",
    "Edict = np.array([E_genes_dict, E_nongenes_dict])\n",
    "E = np.array([E_genes, E_nongenes])"
   ]
  },
  {
   "cell_type": "code",
   "execution_count": 21,
   "metadata": {},
   "outputs": [
    {
     "data": {
      "text/plain": [
       "(0.05439781273538545, 0.07312325460310048)"
      ]
     },
     "execution_count": 21,
     "metadata": {},
     "output_type": "execute_result"
    }
   ],
   "source": [
    "Edict[0]['AAA'], Edict[1][\"AAA\"]"
   ]
  },
  {
   "cell_type": "code",
   "execution_count": 22,
   "metadata": {},
   "outputs": [
    {
     "data": {
      "text/plain": [
       "(0.9999660238509505, 0.9995503384294656)"
      ]
     },
     "execution_count": 22,
     "metadata": {},
     "output_type": "execute_result"
    }
   ],
   "source": [
    "sum(Edict[0].values()), sum(Edict[1].values())"
   ]
  },
  {
   "cell_type": "code",
   "execution_count": 23,
   "metadata": {
    "slideshow": {
     "slide_type": "fragment"
    }
   },
   "outputs": [
    {
     "data": {
      "image/png": "[encoded data removed]",
      "text/plain": [
       "<Figure size 1296x288 with 1 Axes>"
      ]
     },
     "metadata": {
      "needs_background": "light"
     },
     "output_type": "display_data"
    }
   ],
   "source": [
    "# График частот всех триплетов для генов и не генов. Разница есть, но не много\n",
    "plt.figure(figsize=(18, 4))\n",
    "for em,c,l in zip(Edict, ['r*','k'],['gene','non-gene']):\n",
    "    plt.plot(em.keys(), em.values(), c, label=l)\n",
    "plt.legend()\n",
    "plt.xticks(rotation=55)\n",
    "plt.grid(True)\n",
    "_ = plt.title(\"There's no big difference between genes and non-genes\", fontsize=14)"
   ]
  },
  {
   "cell_type": "markdown",
   "metadata": {},
   "source": [
    "И матрица вероятностей переходов между состояниями $\\LARGE a_{kl} = \\frac{A_{kl}}{\\sum_i A_{ki}}$ - количество раз, когда одно состояние сменялось другим:"
   ]
  },
  {
   "cell_type": "code",
   "execution_count": 24,
   "metadata": {},
   "outputs": [],
   "source": [
    "# A = [[1 в 1, из 1 в 2],\n",
    "#      [2 в 1, из 2 в 2]]\n",
    "# 1 - genes\n",
    "# 2 - non_genes"
   ]
  },
  {
   "cell_type": "code",
   "execution_count": 25,
   "metadata": {},
   "outputs": [
    {
     "data": {
      "text/plain": [
       "array([[1495900,    1532],\n",
       "       [    938,  169496]])"
      ]
     },
     "execution_count": 25,
     "metadata": {},
     "output_type": "execute_result"
    }
   ],
   "source": [
    "A = np.array([[len(Gene_space) - genes.shape[0], genes.shape[0]],\n",
    "              [non_genes.shape[0] - 1, len(Non_gene_space) - non_genes.shape[0]]])\n",
    "A"
   ]
  },
  {
   "cell_type": "code",
   "execution_count": 26,
   "metadata": {},
   "outputs": [
    {
     "data": {
      "text/plain": [
       "(1667866,\n",
       " 1667867,\n",
       " 1,\n",
       " 'так и должно быть: переходов меньше на 1, т.к. последний нуклеотид не переходит')"
      ]
     },
     "execution_count": 26,
     "metadata": {},
     "output_type": "execute_result"
    }
   ],
   "source": [
    "A.sum(), len(seq), (len(seq) - A.sum()), 'так и должно быть: переходов меньше на 1, т.к. последний нуклеотид не переходит'"
   ]
  },
  {
   "cell_type": "code",
   "execution_count": 27,
   "metadata": {},
   "outputs": [
    {
     "data": {
      "text/plain": [
       "(array([[0.99897692, 0.00102308],\n",
       "        [0.00550356, 0.99449057]]), 1.9999941326605453)"
      ]
     },
     "execution_count": 27,
     "metadata": {},
     "output_type": "execute_result"
    }
   ],
   "source": [
    "A = A / [[len(Gene_space)], \n",
    "         [len(Non_gene_space)]]\n",
    "A, A.sum()"
   ]
  },
  {
   "cell_type": "markdown",
   "metadata": {},
   "source": [
    "----"
   ]
  },
  {
   "cell_type": "markdown",
   "metadata": {},
   "source": [
    "## Вторая часть."
   ]
  },
  {
   "cell_type": "markdown",
   "metadata": {},
   "source": [
    "Попробуем посчитать правдоподобие данной строки по формуле:\n",
    "$$ \\LARGE P(X, \\pi ) = P(x_1, \\dots, x_n, \\pi_1, \\dots, \\pi_n) = P(X_N|\\pi_N)P(\\pi_N|\\pi_{N-1})\\dots  P(X_2|\\pi_2)P(\\pi_2|\\pi_1)P(X_1|\\pi_1)P(\\pi_1) $$\n",
    "\n",
    "$$\\LARGE =a_{_0\\pi_1}a_{\\pi_1\\pi_2} \\dots a_{\\pi_{N-1}\\pi_{N}} e_{\\pi_1}(x_1)\\dots e_{\\pi_N}(x_N) $$"
   ]
  },
  {
   "cell_type": "markdown",
   "metadata": {},
   "source": [
    "(Аккуратно перемножить для каждого символа из строки $e$ для него, умножая каждый раз на вероятность $a$, которая соответствует текущему состоянию. Например: мы идём по участку интрона, встречаем тимин и умножаем вероятность встретить тимин на вероятность для текущего и предыдущего символа быть в интроне(т.к. мы идём по интрону, то предыдущий и текущий символ у нас - части интрона - умножаем на вероятность перехода из интрона в интрон. И конечно, берем от всего этого логарифм, заменяя произведение суммой)"
   ]
  },
  {
   "cell_type": "markdown",
   "metadata": {},
   "source": [
    "$\\mathbf{a}$ и $\\mathbf{e}$ мы уже подсчитали в предыдущем пункте."
   ]
  },
  {
   "cell_type": "markdown",
   "metadata": {},
   "source": [
    "**Так как вероятности триплетов мы считали пробегаясь окном с шагом 1, будем так же считать правдоподобие**"
   ]
  },
  {
   "cell_type": "code",
   "execution_count": 28,
   "metadata": {},
   "outputs": [],
   "source": [
    "def proba(seq, state_seq, E, A, k=3):\n",
    "    ''' Она считает правдоподобие\n",
    "    seq - DNA sequence\n",
    "    A - transition matrix\n",
    "    E - emission list with dicts of kmers in keys\n",
    "    state_seq - state sequence \n",
    "    k - used kmer lenght \n",
    "    '''\n",
    "    first_kmer = seq[:k]\n",
    "    previous_state = state_seq[0]\n",
    "    log_sum = np.log(E[int(not previous_state)][first_kmer]) # init with only E_matrix value;\n",
    "#     not previous_state здесь значит индексацию. Т.е. в начале у нас не ген(False), но \n",
    "#     в матрицах на первых позициях генные вероятности, а False это 0, который мы заменяем на 1\n",
    "    pass_counter = 0\n",
    "    for i in range(1, len(seq)-(k-1)):\n",
    "        if len(set(state_seq[i: i+k])) > 1:\n",
    "            pass_counter += 1\n",
    "            continue # pass pre_end triplets of genes(nongenes), which include end_index and contain both states\n",
    "        \n",
    "        cur_kmer = seq[i: i+k]        \n",
    "        if not np.all([N in 'ATGC' for N in cur_kmer]):\n",
    "            pass_counter += 1\n",
    "            continue # pass the triplets with unknown nucleotides\n",
    "            \n",
    "        cur_state = state_seq[i]\n",
    "        state_changed = cur_state != previous_state\n",
    "        XNOR_id = cur_state * state_changed + (not cur_state) * (not state_changed) # эта переменная тоже \n",
    "#         за индексацию отвечает, в trans_matrix. XNOR из-за вида матрицы, ну и чтоб 1 строчкой записать\n",
    "#         и не городить много if'ов\n",
    "        \n",
    "        e = np.log(E[int(not cur_state)][cur_kmer])\n",
    "        a = np.log(A[int(not cur_state), int(XNOR_id)])\n",
    "\n",
    "        log_sum += e + a\n",
    "    print(f'{pass_counter} passed\\n')\n",
    "    return np.exp(log_sum)"
   ]
  },
  {
   "cell_type": "code",
   "execution_count": 29,
   "metadata": {},
   "outputs": [
    {
     "name": "stdout",
     "output_type": "stream",
     "text": [
      "4853 passed\n",
      "\n",
      "CPU times: user 1min 5s, sys: 8.35 ms, total: 1min 5s\n",
      "Wall time: 1min 5s\n"
     ]
    },
    {
     "data": {
      "text/plain": [
       "0.0"
      ]
     },
     "execution_count": 29,
     "metadata": {},
     "output_type": "execute_result"
    }
   ],
   "source": [
    "%%time\n",
    "proba(seq, is_gene, Edict, A)"
   ]
  },
  {
   "cell_type": "code",
   "execution_count": 30,
   "metadata": {},
   "outputs": [
    {
     "name": "stdout",
     "output_type": "stream",
     "text": [
      "0 passed\n",
      "\n"
     ]
    },
    {
     "data": {
      "text/plain": [
       "'1.3602189968286137e-172 это вероятность того, что начало сека это не ген'"
      ]
     },
     "execution_count": 30,
     "metadata": {},
     "output_type": "execute_result"
    }
   ],
   "source": [
    "f'{proba(seq[:100], np.zeros(100), Edict, A)} это вероятность того, что начало сека это не ген'"
   ]
  },
  {
   "cell_type": "code",
   "execution_count": 31,
   "metadata": {},
   "outputs": [
    {
     "name": "stdout",
     "output_type": "stream",
     "text": [
      "0 passed\n",
      "\n"
     ]
    },
    {
     "data": {
      "text/plain": [
       "'4.6723163890326694e-175, а это вероятность того, что начало сека это ген'"
      ]
     },
     "execution_count": 31,
     "metadata": {},
     "output_type": "execute_result"
    }
   ],
   "source": [
    "f'{proba(seq[:100], np.ones(100), Edict, A)}, а это вероятность того, что начало сека это ген'"
   ]
  },
  {
   "cell_type": "markdown",
   "metadata": {},
   "source": [
    "**А так как известно, что начало это не ген, то правдоподобие как будто бы работает! Однако на таких малых вероятностях дальше пары сотен нуклеотидов не уедешь, все обращается в 0, а длина генов обычно больше 300 букв**"
   ]
  },
  {
   "cell_type": "code",
   "execution_count": 32,
   "metadata": {},
   "outputs": [
    {
     "data": {
      "image/png": "[encoded data removed]",
      "text/plain": [
       "<Figure size 864x288 with 1 Axes>"
      ]
     },
     "metadata": {
      "needs_background": "light"
     },
     "output_type": "display_data"
    }
   ],
   "source": [
    "# Распределение длин генов\n",
    "plt.figure(figsize=(12, 4))\n",
    "_ = plt.hist(genes.end - genes.start, bins=100)\n",
    "plt.title('Distribution of genes lenght', fontsize=14)\n",
    "_ = plt.xticks(np.arange(0, 8001, 500))"
   ]
  },
  {
   "cell_type": "markdown",
   "metadata": {},
   "source": [
    "Результат - число - будет обозначать, насколько вероятно было встретить такую последовательность символов при таких вероятностях встретить символы при соответствующих состояниях."
   ]
  },
  {
   "cell_type": "markdown",
   "metadata": {},
   "source": [
    "Зачем такое может понадобиться? Например, мы построили модель по одному организму, для которого известна только часть генома. Для новых частей генома мы можем получить оценку правдоподобия - чем выше оценка, тем больше вероятность того, что новая часть генома действительно относится к изучаемому организму."
   ]
  },
  {
   "cell_type": "markdown",
   "metadata": {},
   "source": [
    "## Третья часть."
   ]
  },
  {
   "cell_type": "markdown",
   "metadata": {},
   "source": [
    "Попробуем сделать алгоритм Витерби, который по последовательности считает наиболее вероятную последовательность состояний.  \n",
    "Подробнее вот тут: https://drive.google.com/open?id=1v4V8NXjEkjTrcZhuPd3j0_1Hh3kmxWPK  \n",
    "Идея такая -- нужно пройти по входной последовательности и брать каждый раз максимально возможную комбинацию состояния и наблюдаемого символа.\n",
    "\n",
    "Т.е. начинаем с фиктивного нулевого состояния и выбираем максимальную вероятность получения очередного символа последовательности из каждого состояния и далее по рекуррентному соотношению: $ \\LARGE V_l (i+1) = e_l \\max_{k} a_{kl}V_k(i)$"
   ]
  },
  {
   "cell_type": "code",
   "execution_count": 33,
   "metadata": {},
   "outputs": [],
   "source": [
    "def Viterbi(seq, A, E, S='GN', I=None, k=3):\n",
    "    \n",
    "    '''realisation of Viterbi algirithm looking at Wiki pseudocode\n",
    "    A - transition matrix\n",
    "    E - emission list with dicts of kmers in keys\n",
    "    I - init matrix with probas for gene and non_gene, accordingly\n",
    "    S - state set\n",
    "    k - kmer lenght\n",
    "    \n",
    "    returns\n",
    "    X - sequence of states\n",
    "    '''\n",
    "    K = len(A)\n",
    "    I = I or np.full(K, 1 / K)\n",
    "    N = len(E[0])\n",
    "    T = len(seq) - (k-1)\n",
    "    T1, T2 = np.zeros((K,T)), np.zeros((K,T), dtype=int)\n",
    "    first_kmer = seq[:k]\n",
    "    for i in range(K):\n",
    "        T1[i,0] = I[i] * E[i][first_kmer]\n",
    "\n",
    "    for i in range(1, T):\n",
    "        cur_kmer = seq[i:i+k]\n",
    "        for j in range(K):\n",
    "            variants = [T1[t, i-1] * A[t][j] * E[j][cur_kmer] for t in range(K)]\n",
    "            T1[j,i] = np.max(variants)\n",
    "            T2[j,i] = np.argmax(variants)\n",
    "            \n",
    "    Z = np.zeros(T,dtype=int)\n",
    "    Z[-1] = np.argmax(T1[:,T-1])\n",
    "    for i in reversed(range(1, T)):\n",
    "        Z[i-1] = T2[Z[i], i]\n",
    "    X = ''.join([S[i] for i in Z])\n",
    "    X += X[-1] * (k-1)\n",
    "\n",
    "    return X"
   ]
  },
  {
   "cell_type": "code",
   "execution_count": 34,
   "metadata": {},
   "outputs": [
    {
     "data": {
      "text/plain": [
       "'NNNNNNNNNNNNNNNNNNNNNNNNNNNNNNNNNNNNNNNNNNNNNNNNNNNNNNNNNNNNNNNNNNNNNNNNNNNNNNNNNNNNNNNNNNNNNNNNNNNN'"
      ]
     },
     "execution_count": 34,
     "metadata": {},
     "output_type": "execute_result"
    }
   ],
   "source": [
    "Viterbi(seq[100:200], A, Edict)"
   ]
  },
  {
   "cell_type": "code",
   "execution_count": 35,
   "metadata": {},
   "outputs": [
    {
     "data": {
      "text/plain": [
       "'GGGGGGGGGGGGGGGGGGGGGGGGGGGGGGGGGGGGGGGGGGGGGGGGGGGGGGGGGGGGGGGGGGGGGGGGGGGGGGGGGGGGGGGGGGGGGGGGGGGGGGGGGGGGGGGGGGGGGGGGGGGGGGGGGGGGGGGGGGGGGGGGGGGGGGGGGGGGGGGGGGGGGGGGGGGGGGGGGGGGGGGGGGGGGGGGGGGGGGGG'"
      ]
     },
     "execution_count": 35,
     "metadata": {},
     "output_type": "execute_result"
    }
   ],
   "source": [
    "Viterbi(seq[2750:2950], A, Edict)"
   ]
  },
  {
   "cell_type": "code",
   "execution_count": 36,
   "metadata": {},
   "outputs": [
    {
     "data": {
      "text/plain": [
       "'GGGGGGGGGGGGGGGGGGGGGGGGGGGGGGGGGGGGGGGGGGGGGGGGGGGGGGGGGGGGGGGGGGGGGGGGGGGGGGGGGGGGGGGGGGGGGGGGGGGGGGGGGGGGGGGGGGGGGGGGGGGGGGGGGGGGGGGGGGGGGGGGGGGGGGGGGGGGGGGGGGGGGGGGGGGGGGGGGGGGGGGGGGGGGGGGGGGGGGGGGGGGGGGGGGGGGGGGGGGGGGGGGGGGGGGGGGGGGGGGGGGGGGGGGGGGGGGGGGGGGGGGGGGGGGGGGGGGGGGGGGGGGGGGGGGGGGGGGGGGGGGGGGGGGGGGGGGGGGGGGGGGGGGGGGGGGGGGGGGGGGGGGGGGGGGGGGGGGGGGGGGGGGGGGGGGGGGGGGGGGGGGGGGGGGGGGGGGGGGGGGGGGGGGGGGGGGGGGGGGGGGGGGGGGGGGGGGGGGGGGGGGGGGGGGGGGGGGGGGGGGGGGGGGGGGGGGGGGGGGGGGGGGGGGGGGGGGGGGGGGGGGGGGGGGGGGGGGGGGGGGGGGGGGGGGGGGGGGGGGGGGGGGGGGGGGGGGGGGGGGGGGGGGGGGGGGGGGGGGGGGGGGGGGGGGGGGGGGGGGGGGGGGGGGGGGGGGGGGGGGGGGGGGGGGGGGGGGGGGGGGGGGGGGGGGGGGGGGGGGGGGGG'"
      ]
     },
     "execution_count": 36,
     "metadata": {},
     "output_type": "execute_result"
    }
   ],
   "source": [
    "Viterbi(seq[8602:9267], A, Edict)"
   ]
  },
  {
   "cell_type": "code",
   "execution_count": 37,
   "metadata": {},
   "outputs": [
    {
     "data": {
      "text/plain": [
       "(array([12639, 12727,    88]), array([7602, 9243]))"
      ]
     },
     "execution_count": 37,
     "metadata": {},
     "output_type": "execute_result"
    }
   ],
   "source": [
    "non_genes.values[6], genes.values[7],"
   ]
  },
  {
   "cell_type": "markdown",
   "metadata": {},
   "source": [
    "**Не классифицирует на состояния правильно, т.к. разницы меж ними мало. Проверка на других организмах бесполезна**"
   ]
  },
  {
   "cell_type": "markdown",
   "metadata": {},
   "source": [
    "Проверка алгоритма на сете из розалинда"
   ]
  },
  {
   "cell_type": "code",
   "execution_count": 38,
   "metadata": {},
   "outputs": [],
   "source": [
    "y = 'xyxzzxyxyy'\n",
    "A = np.array([[0.641, 0.359],\n",
    "              [0.729, 0.271]])\n",
    "B = np.array([[0.117, 0.691, 0.192], \n",
    "             [0.097, 0.42, 0.483]])\n",
    "Bdict = [dict(x=0.117, y=0.691, z=0.192), \n",
    "         dict(x=0.097, y=0.42, z=0.483)]\n",
    "\n",
    "enc = LabelEncoder()\n",
    "tra_y = enc.fit_transform(list(y))"
   ]
  },
  {
   "cell_type": "code",
   "execution_count": 39,
   "metadata": {},
   "outputs": [
    {
     "data": {
      "text/plain": [
       "('AAABBAAAAA', 'работает ладно')"
      ]
     },
     "execution_count": 39,
     "metadata": {},
     "output_type": "execute_result"
    }
   ],
   "source": [
    "Viterbi(y, A, Bdict, k=1, S='AB'), 'работает ладно'"
   ]
  },
  {
   "cell_type": "markdown",
   "metadata": {},
   "source": [
    "----"
   ]
  },
  {
   "cell_type": "markdown",
   "metadata": {},
   "source": [
    "## Четвертая часть."
   ]
  },
  {
   "cell_type": "markdown",
   "metadata": {},
   "source": [
    "Библиотека hmmlearn.  \n",
    "Документация: https://hmmlearn.readthedocs.io/en/latest/\n",
    "Должна без проблем импортироваться. Если не импортируется, то\n",
    "```\n",
    "pip3 install hmmlearn\n",
    "```"
   ]
  },
  {
   "cell_type": "code",
   "execution_count": 40,
   "metadata": {},
   "outputs": [],
   "source": [
    "from hmmlearn import hmm\n",
    "import numpy as np"
   ]
  },
  {
   "cell_type": "markdown",
   "metadata": {},
   "source": [
    "По какой-то причине не существует очень хороших пакетов на тему скрытых марковских моделей. В принципе при наличии особого желания можно написать свой(все так делают, поэтому в pip так много пакетов) с помощью numpy написать алгоритмы Витерби, прямого и обратного вычисления и Баума-Уэлша."
   ]
  },
  {
   "cell_type": "markdown",
   "metadata": {},
   "source": [
    "На момент создания домашки hmmlearn поддерживает 3 типа скрытых марковских моделей:  \n",
    "1. hmm.GaussianHMM - наблюдаемые состояния генерируются нормальным распределением.\n",
    "2. hmm.GMMHMM - наблюдаемые состояния генерируются смесью нормальных распределений.\n",
    "3. hmm.MultinomialHMM - наблюдаемые состояния - дискретное распределение."
   ]
  },
  {
   "cell_type": "markdown",
   "metadata": {},
   "source": [
    "##### hmm.GaussianHMM\n",
    "Как это и зачем это?\n",
    "Допустим, мы бежим скользящим окном по геному, как мы это делали в аудитории на одной из лабораторных и для каждого окна считаем GC-content. Если зажмуриться и считать, что gc-content распределен нормально, то для экзона распределение этого параметра будет одним, а для интрона - другим."
   ]
  },
  {
   "cell_type": "markdown",
   "metadata": {},
   "source": [
    "Вообразим себе такую систему, которая будет переключаться между двумя состояниями, и в каждом выдавать числа из отдельного нормального распределения."
   ]
  },
  {
   "cell_type": "code",
   "execution_count": 58,
   "metadata": {},
   "outputs": [],
   "source": [
    "model = hmm.GaussianHMM(n_components=2, covariance_type=\"full\") # два состояния\n",
    "model.startprob_ = np.array([0.5, 0.5]) # вероятности стартовать из каждого состояния, в сумме ноль.\n",
    "model.transmat_ = np.array([[0.8, 0.2], \n",
    "                             [0.2, 0.8]]) # для каждого состояния вероятность перейти в соответствующее состояние\n",
    "model.means_ = np.array([[0.0], [3.0]]) # стартовые средние\n",
    "model.covars_ = np.tile(np.identity(1), (2, 1, 1)) # стартовые дисперсии\n",
    "X, Z = model.sample(10) # по параметрам генерируем пары "
   ]
  },
  {
   "cell_type": "markdown",
   "metadata": {},
   "source": [
    "Наблюдаемые числа:"
   ]
  },
  {
   "cell_type": "code",
   "execution_count": 59,
   "metadata": {},
   "outputs": [
    {
     "data": {
      "text/plain": [
       "array([[ 3.69147273],\n",
       "       [ 1.45691149],\n",
       "       [ 2.41519746],\n",
       "       [ 4.43658706],\n",
       "       [-1.50367   ],\n",
       "       [-1.48327046],\n",
       "       [-0.42403175],\n",
       "       [ 0.81033224],\n",
       "       [ 2.4465341 ],\n",
       "       [ 2.95714422]])"
      ]
     },
     "execution_count": 59,
     "metadata": {},
     "output_type": "execute_result"
    }
   ],
   "source": [
    "X"
   ]
  },
  {
   "cell_type": "markdown",
   "metadata": {},
   "source": [
    "Наблюдаемые состояния:"
   ]
  },
  {
   "cell_type": "code",
   "execution_count": 60,
   "metadata": {},
   "outputs": [
    {
     "data": {
      "text/plain": [
       "array([1, 1, 1, 1, 0, 0, 0, 0, 1, 1])"
      ]
     },
     "execution_count": 60,
     "metadata": {},
     "output_type": "execute_result"
    }
   ],
   "source": [
    "Z"
   ]
  },
  {
   "cell_type": "markdown",
   "metadata": {},
   "source": [
    "Размерность выкидываемого распределения определяется автоматически. Можно сделать, например так:"
   ]
  },
  {
   "cell_type": "code",
   "execution_count": 61,
   "metadata": {},
   "outputs": [],
   "source": [
    "model = hmm.GaussianHMM(n_components=2, covariance_type=\"full\") # два состояния\n",
    "model.startprob_ = np.array([0.5, 0.5]) # вероятности стартовать из каждого состояния, в сумме ноль.\n",
    "model.transmat_ = np.array([[0.7, 0.3], \n",
    "                             [0.2, 0.8]]) # для каждого состояния вероятность перейти в соответствующее состояние\n",
    "model.means_ = np.array([[-3, -3 ], [3.0, 3]]) # стартовые средние - а сейчас зададим двумерные.\n",
    "model.covars_ = np.tile(np.identity(2), (2, 1, 1)) # стартовые дисперсии вида [1,1]\n",
    "X, Z = model.sample(100) # по параметрам генерируем пары "
   ]
  },
  {
   "cell_type": "code",
   "execution_count": 62,
   "metadata": {},
   "outputs": [],
   "source": [
    "import matplotlib.pyplot as plt\n",
    "%matplotlib inline"
   ]
  },
  {
   "cell_type": "code",
   "execution_count": 63,
   "metadata": {},
   "outputs": [
    {
     "data": {
      "image/png": "[encoded data removed]",
      "text/plain": [
       "<Figure size 432x288 with 1 Axes>"
      ]
     },
     "metadata": {
      "needs_background": "light"
     },
     "output_type": "display_data"
    }
   ],
   "source": [
    "for state in np.unique(Z):\n",
    "    plt.scatter(X[:,0][Z==state], X[:,1][Z==state])\n",
    "    plt.scatter(X[:,0][Z==state], X[:,1][Z==state])\n",
    "    \n",
    "plt.show()"
   ]
  },
  {
   "cell_type": "markdown",
   "metadata": {},
   "source": [
    "Получили двумерные наблюдения."
   ]
  },
  {
   "cell_type": "markdown",
   "metadata": {},
   "source": [
    "##### hmm.MultinomialHMM\n",
    "А тут мы генерируем из состояний дискретные распределения.\n",
    "Попробуем воспроизвести пример с казино и кубиком, который у нас был в лекции. Он как раз подходит - 2 кости(состояния), и 6 граней в каждой кости(наблюдаемые состояния)."
   ]
  },
  {
   "cell_type": "code",
   "execution_count": 64,
   "metadata": {},
   "outputs": [],
   "source": [
    "casino_model = hmm.MultinomialHMM(n_components=2)#два кубика"
   ]
  },
  {
   "cell_type": "markdown",
   "metadata": {},
   "source": [
    "Зададим вероятности:"
   ]
  },
  {
   "cell_type": "markdown",
   "metadata": {},
   "source": [
    "Т.к. пакеты в python делают очень неспеша и иногда небрежно, в самой последней версии пакета, которую можно установить из pip, есть такой нюанс - в ней для MultinomialHMM по умолчанию не создаются атрибуты для матриц E(emissionprob_), A(transmat_) и стартовой матрицы(startprob_). Они создаются в коде метода fit, который тренирует модель. Поэтому я, минут 10 посмотрев на код, понял, что можно сделать и вот так:"
   ]
  },
  {
   "cell_type": "code",
   "execution_count": 65,
   "metadata": {},
   "outputs": [],
   "source": [
    "casino_model.emissionprob_ = np.array([[1/6 ]*6, [1/10,1/10,1/10,1/10,1/10,1/2]])\n",
    "casino_model.startprob_ = np.array([0.5,0.5])\n",
    "casino_model.transmat_ = np.array([[0.95, 0.05],[0.05, 0.95]])"
   ]
  },
  {
   "cell_type": "code",
   "execution_count": 66,
   "metadata": {},
   "outputs": [],
   "source": [
    "dice, state  = casino_model.sample(100)"
   ]
  },
  {
   "cell_type": "markdown",
   "metadata": {},
   "source": [
    "По умолчанию пакет будет выводить состояния от 0 до 5, поэтому +1, чтобы выглядело красиво:"
   ]
  },
  {
   "cell_type": "code",
   "execution_count": 67,
   "metadata": {},
   "outputs": [
    {
     "data": {
      "text/plain": [
       "array([5, 2, 5, 3, 1, 5, 2, 2, 5, 2, 3, 5, 1, 6, 1, 4, 6, 1, 3, 3, 5, 6,\n",
       "       5, 3, 1, 6, 2, 2, 4, 4, 3, 2, 3, 2, 2, 1, 3, 5, 3, 5, 1, 6, 2, 5,\n",
       "       6, 2, 6, 6, 6, 1, 5, 5, 6, 6, 6, 6, 3, 6, 2, 6, 3, 5, 2, 5, 6, 6,\n",
       "       6, 6, 6, 6, 6, 2, 3, 3, 6, 6, 6, 1, 6, 2, 6, 6, 6, 2, 6, 5, 1, 6,\n",
       "       6, 3, 4, 6, 4, 6, 2, 2, 6, 6, 1, 6])"
      ]
     },
     "execution_count": 67,
     "metadata": {},
     "output_type": "execute_result"
    }
   ],
   "source": [
    "np.squeeze(dice+1)"
   ]
  },
  {
   "cell_type": "markdown",
   "metadata": {},
   "source": [
    "А это состояния:"
   ]
  },
  {
   "cell_type": "code",
   "execution_count": 68,
   "metadata": {},
   "outputs": [
    {
     "data": {
      "text/plain": [
       "array([0, 0, 0, 0, 0, 0, 0, 0, 0, 0, 0, 0, 0, 0, 0, 0, 0, 0, 0, 0, 0, 0,\n",
       "       0, 0, 0, 0, 0, 0, 0, 0, 0, 0, 0, 0, 0, 0, 0, 0, 0, 0, 0, 0, 0, 0,\n",
       "       0, 0, 0, 0, 0, 1, 1, 1, 1, 1, 1, 1, 1, 1, 1, 1, 1, 1, 1, 1, 1, 1,\n",
       "       1, 1, 1, 1, 1, 1, 1, 1, 1, 1, 1, 1, 1, 1, 1, 1, 1, 1, 0, 0, 0, 0,\n",
       "       0, 0, 0, 0, 0, 0, 0, 0, 0, 0, 0, 1])"
      ]
     },
     "execution_count": 68,
     "metadata": {},
     "output_type": "execute_result"
    }
   ],
   "source": [
    "state"
   ]
  },
  {
   "cell_type": "markdown",
   "metadata": {},
   "source": [
    "----\n",
    "Финиш четвертой части.\n",
    "Бонус для развлечения со звёздочкой - соорудить по матрицам A и E первой части GaussianHMM(метод fit какой-то очень неудобный), который будет для экзона и интрона выдавать разные %GC. \n",
    "Т.е.:\n",
    "1. берем разметку ген/не ген\n",
    "2. для каждой последовательности скользящим окном не очень большого размера считаем %GC - получаем для каждого участка набор оценок GC, к которому относимся как к нормально распределенному - берем среднее и дисперсию\n",
    "3. Средние и дисперсии подставляем в hmm.GaussianHMM.\n",
    "Такая модель в будущем позволит выполнять стандартные для HMM операции:\n",
    "    * правдоподобие(как раз и будет мера похожести - определять похожесть нового участка ДНК на тот, по которому построена модель и такое сравнение будет отлично от выравниваний по своей механике)\n",
    "    * decode - для участка ДНК определить наиболее вероятную последовательность состояний, которая привела к появлению наблюдаемой последовательности."
   ]
  },
  {
   "cell_type": "markdown",
   "metadata": {},
   "source": [
    "Пара функций для оконного счета ГЦ:"
   ]
  },
  {
   "cell_type": "code",
   "execution_count": 41,
   "metadata": {},
   "outputs": [],
   "source": [
    "def count_GC(seq):\n",
    "    return (seq.count('G') + seq.count('C')) / len(seq)\n",
    "\n",
    "def window_counter(seq, M=True, window=60):\n",
    "    GCs = [count_GC(seq[i:i+window]) for i in range(0, len(seq), window//2)]\n",
    "    mean = np.mean(GCs)\n",
    "    std = np.std(GCs)\n",
    "    if M:\n",
    "        return mean\n",
    "    return std"
   ]
  },
  {
   "cell_type": "code",
   "execution_count": 42,
   "metadata": {},
   "outputs": [],
   "source": [
    "genes['GC_mean'] = genes.apply(lambda s: window_counter(seq[int(s[0]):int(s[1])]), axis=1)\n",
    "# genes['GC_std'] = genes.apply(lambda s: window_counter(seq[int(s[0]):int(s[1])], False), axis=1)\n",
    "\n",
    "non_genes['GC_mean'] = non_genes.apply(lambda s: window_counter(seq[int(s[0]):int(s[1])]), axis=1)\n",
    "# non_genes['GC_std'] = non_genes.apply(lambda s: window_counter(seq[int(s[0]):int(s[1])], False), axis=1)"
   ]
  },
  {
   "cell_type": "code",
   "execution_count": 43,
   "metadata": {},
   "outputs": [
    {
     "data": {
      "text/plain": [
       "(0.39111450437897405,\n",
       " 0.3119003389850036,\n",
       " 0.03483616870790018,\n",
       " 0.08306242866157142)"
      ]
     },
     "execution_count": 43,
     "metadata": {},
     "output_type": "execute_result"
    }
   ],
   "source": [
    "GeneM = genes.GC_mean.mean()\n",
    "GeneS = genes.GC_mean.std()\n",
    "\n",
    "NongeneM = non_genes.GC_mean.mean()\n",
    "NongeneS = non_genes.GC_mean.std()\n",
    "\n",
    "GeneM, NongeneM, GeneS, NongeneS # средние да отклонения стандартные"
   ]
  },
  {
   "cell_type": "code",
   "execution_count": 44,
   "metadata": {},
   "outputs": [],
   "source": [
    "model = hmm.GaussianHMM(n_components=2, covariance_type=\"full\") # два состояния\n",
    "model.startprob_ = np.array([0.5, 0.5])\n",
    "model.transmat_ = A\n",
    "model.means_ = np.array([[GeneM], [NongeneM]]) # стартовые средние\n",
    "model.covars_ = np.reshape([GeneS, NongeneS], (2,1,1)) # стартовые дисперсии\n",
    "X, Z = model.sample(200) # по параметрам генерируем пары "
   ]
  },
  {
   "cell_type": "code",
   "execution_count": 45,
   "metadata": {},
   "outputs": [
    {
     "data": {
      "text/plain": [
       "array([[0.44972388],\n",
       "       [0.20960068],\n",
       "       [0.10800737],\n",
       "       [0.50908076],\n",
       "       [0.25314028],\n",
       "       [0.58885075],\n",
       "       [0.44750031],\n",
       "       [0.13844179],\n",
       "       [0.4014219 ],\n",
       "       [0.84512879]])"
      ]
     },
     "execution_count": 45,
     "metadata": {},
     "output_type": "execute_result"
    }
   ],
   "source": [
    "X[:10]"
   ]
  },
  {
   "cell_type": "code",
   "execution_count": 46,
   "metadata": {},
   "outputs": [
    {
     "data": {
      "text/plain": [
       "array([1, 0, 0, 1, 0, 1, 1, 0, 0, 1])"
      ]
     },
     "execution_count": 46,
     "metadata": {},
     "output_type": "execute_result"
    }
   ],
   "source": [
    "Z[:10]"
   ]
  },
  {
   "cell_type": "markdown",
   "metadata": {},
   "source": [
    "Попредсказываем на трейновых данных"
   ]
  },
  {
   "cell_type": "code",
   "execution_count": 47,
   "metadata": {},
   "outputs": [
    {
     "data": {
      "text/plain": [
       "(1532, 939)"
      ]
     },
     "execution_count": 47,
     "metadata": {},
     "output_type": "execute_result"
    }
   ],
   "source": [
    "Xg = genes.GC_mean.values.reshape(-1,1)\n",
    "Xn = non_genes.GC_mean.values.reshape(-1,1)\n",
    "len(Xg), len(Xn)"
   ]
  },
  {
   "cell_type": "code",
   "execution_count": 48,
   "metadata": {},
   "outputs": [
    {
     "data": {
      "text/plain": [
       "0    2469\n",
       "1       2\n",
       "dtype: int64"
      ]
     },
     "execution_count": 48,
     "metadata": {},
     "output_type": "execute_result"
    }
   ],
   "source": [
    "pd.Series(model.predict(np.concatenate([Xg,Xn]))).value_counts() # using predict"
   ]
  },
  {
   "cell_type": "code",
   "execution_count": 49,
   "metadata": {},
   "outputs": [
    {
     "data": {
      "text/plain": [
       "0    2469\n",
       "1       2\n",
       "dtype: int64"
      ]
     },
     "execution_count": 49,
     "metadata": {},
     "output_type": "execute_result"
    }
   ],
   "source": [
    "logprob,State_sequence = model.decode(np.concatenate([Xg,Xn]))\n",
    "pd.Series(State_sequence).value_counts() # using decode"
   ]
  },
  {
   "cell_type": "markdown",
   "metadata": {},
   "source": [
    "Не признает модель почти ничего, кроме генов"
   ]
  },
  {
   "cell_type": "code",
   "execution_count": 50,
   "metadata": {},
   "outputs": [],
   "source": [
    "from sklearn.mixture import GaussianMixture\n",
    "import seaborn as sns"
   ]
  },
  {
   "cell_type": "code",
   "execution_count": 51,
   "metadata": {},
   "outputs": [
    {
     "data": {
      "text/plain": [
       "Text(0.5, 1.0, 'Условные плотности средних по GC')"
      ]
     },
     "execution_count": 51,
     "metadata": {},
     "output_type": "execute_result"
    },
    {
     "data": {
      "image/png": "[encoded data removed]",
      "text/plain": [
       "<Figure size 432x288 with 1 Axes>"
      ]
     },
     "metadata": {
      "needs_background": "light"
     },
     "output_type": "display_data"
    }
   ],
   "source": [
    "sns.distplot(genes.GC_mean.values, label='genes')\n",
    "sns.distplot(non_genes.GC_mean.values, label='not')\n",
    "plt.xlim(.1, .5)\n",
    "plt.legend()\n",
    "plt.title('Условные плотности средних по GC')"
   ]
  },
  {
   "cell_type": "markdown",
   "metadata": {},
   "source": [
    "**Перекрытие серьезное, но ниже от 0.35 до 0.45 хотя бы могла классифицировать, но нет, а таких значений:**"
   ]
  },
  {
   "cell_type": "code",
   "execution_count": 52,
   "metadata": {},
   "outputs": [
    {
     "data": {
      "text/plain": [
       "(214,)"
      ]
     },
     "execution_count": 52,
     "metadata": {},
     "output_type": "execute_result"
    }
   ],
   "source": [
    "non_genes[(non_genes.GC_mean >= 0.35) & (non_genes.GC_mean <= 0.45)].GC_mean.shape"
   ]
  },
  {
   "cell_type": "code",
   "execution_count": 53,
   "metadata": {},
   "outputs": [
    {
     "data": {
      "text/plain": [
       "<matplotlib.legend.Legend at 0x7f04df31f048>"
      ]
     },
     "execution_count": 53,
     "metadata": {},
     "output_type": "execute_result"
    },
    {
     "data": {
      "image/png": "[encoded data removed]",
      "text/plain": [
       "<Figure size 864x432 with 1 Axes>"
      ]
     },
     "metadata": {
      "needs_background": "light"
     },
     "output_type": "display_data"
    }
   ],
   "source": [
    "samples = np.random.normal(GeneM, GeneS, 400)\n",
    "samples = np.append(samples, np.random.normal(NongeneM, NongeneS, 400))\n",
    "# Fit GMM\n",
    "GM = GaussianMixture(n_components=2, covariance_type=\"full\", tol=0.001)\n",
    "# GM.fit(X=np.expand_dims(samples, 1))\n",
    "# fit on GC of genes and not\n",
    "GM.fit(X=np.concatenate([genes.GC_mean.values, \n",
    "                       non_genes.GC_mean.values]).reshape(-1,1), \n",
    "       y=[0]*len(genes) + [1]*len(non_genes))\n",
    "\n",
    "gmm_x = np.linspace(0, .8, 5000)\n",
    "gmm_y = np.exp(GM.score_samples(gmm_x.reshape(-1, 1)))\n",
    "\n",
    "plt.figure(figsize=(12,6))\n",
    "plt.plot(gmm_x, gmm_y, color=\"crimson\", lw=3, label=\"GMM\")\n",
    "# sns.distplot(samples, bins=50)\n",
    "sns.distplot(genes.GC_mean.values,label='genes')\n",
    "sns.distplot(non_genes.GC_mean.values, label='not')\n",
    "plt.xlim(.15, .6)\n",
    "plt.legend()"
   ]
  },
  {
   "cell_type": "code",
   "execution_count": null,
   "metadata": {},
   "outputs": [],
   "source": []
  }
 ],
 "metadata": {
  "kernelspec": {
   "display_name": "Python 3",
   "language": "python",
   "name": "python3"
  },
  "language_info": {
   "codemirror_mode": {
    "name": "ipython",
    "version": 3
   },
   "file_extension": ".py",
   "mimetype": "text/x-python",
   "name": "python",
   "nbconvert_exporter": "python",
   "pygments_lexer": "ipython3",
   "version": "3.6.8"
  }
 },
 "nbformat": 4,
 "nbformat_minor": 2
}
